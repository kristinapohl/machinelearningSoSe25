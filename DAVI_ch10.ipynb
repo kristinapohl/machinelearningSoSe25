{
  "cells": [
    {
      "cell_type": "markdown",
      "metadata": {
        "deletable": true,
        "editable": true,
        "id": "0Dj32mOLm8g4"
      },
      "source": [
        "# Data Aggregation and Group Operations"
      ]
    },
    {
      "cell_type": "code",
      "execution_count": 1,
      "metadata": {
        "deletable": true,
        "editable": true,
        "id": "DiQWcifRm8g5"
      },
      "outputs": [],
      "source": [
        "import numpy as np\n",
        "import pandas as pd\n",
        "PREVIOUS_MAX_ROWS = pd.options.display.max_rows\n",
        "pd.options.display.max_rows = 20\n",
        "np.random.seed(12345)\n",
        "import matplotlib.pyplot as plt\n",
        "plt.rc('figure', figsize=(10, 6))\n",
        "np.set_printoptions(precision=4, suppress=True)"
      ]
    },
    {
      "cell_type": "markdown",
      "metadata": {
        "deletable": true,
        "editable": true,
        "id": "RIVkk_3fm8g6"
      },
      "source": [
        "## GroupBy Mechanics"
      ]
    },
    {
      "cell_type": "code",
      "execution_count": 2,
      "metadata": {
        "deletable": true,
        "editable": true,
        "id": "wa-cbK7Pm8g6",
        "outputId": "c8bfb5f1-cf6c-423c-a287-c5c0cb0de787",
        "colab": {
          "base_uri": "https://localhost:8080/",
          "height": 206
        }
      },
      "outputs": [
        {
          "output_type": "execute_result",
          "data": {
            "text/plain": [
              "  key1 key2     data1     data2\n",
              "0    a  one -0.204708  1.393406\n",
              "1    a  two  0.478943  0.092908\n",
              "2    b  one -0.519439  0.281746\n",
              "3    b  two -0.555730  0.769023\n",
              "4    a  one  1.965781  1.246435"
            ],
            "text/html": [
              "\n",
              "  <div id=\"df-caf69e53-14ca-49f7-a821-adf7da3dfcc5\" class=\"colab-df-container\">\n",
              "    <div>\n",
              "<style scoped>\n",
              "    .dataframe tbody tr th:only-of-type {\n",
              "        vertical-align: middle;\n",
              "    }\n",
              "\n",
              "    .dataframe tbody tr th {\n",
              "        vertical-align: top;\n",
              "    }\n",
              "\n",
              "    .dataframe thead th {\n",
              "        text-align: right;\n",
              "    }\n",
              "</style>\n",
              "<table border=\"1\" class=\"dataframe\">\n",
              "  <thead>\n",
              "    <tr style=\"text-align: right;\">\n",
              "      <th></th>\n",
              "      <th>key1</th>\n",
              "      <th>key2</th>\n",
              "      <th>data1</th>\n",
              "      <th>data2</th>\n",
              "    </tr>\n",
              "  </thead>\n",
              "  <tbody>\n",
              "    <tr>\n",
              "      <th>0</th>\n",
              "      <td>a</td>\n",
              "      <td>one</td>\n",
              "      <td>-0.204708</td>\n",
              "      <td>1.393406</td>\n",
              "    </tr>\n",
              "    <tr>\n",
              "      <th>1</th>\n",
              "      <td>a</td>\n",
              "      <td>two</td>\n",
              "      <td>0.478943</td>\n",
              "      <td>0.092908</td>\n",
              "    </tr>\n",
              "    <tr>\n",
              "      <th>2</th>\n",
              "      <td>b</td>\n",
              "      <td>one</td>\n",
              "      <td>-0.519439</td>\n",
              "      <td>0.281746</td>\n",
              "    </tr>\n",
              "    <tr>\n",
              "      <th>3</th>\n",
              "      <td>b</td>\n",
              "      <td>two</td>\n",
              "      <td>-0.555730</td>\n",
              "      <td>0.769023</td>\n",
              "    </tr>\n",
              "    <tr>\n",
              "      <th>4</th>\n",
              "      <td>a</td>\n",
              "      <td>one</td>\n",
              "      <td>1.965781</td>\n",
              "      <td>1.246435</td>\n",
              "    </tr>\n",
              "  </tbody>\n",
              "</table>\n",
              "</div>\n",
              "    <div class=\"colab-df-buttons\">\n",
              "\n",
              "  <div class=\"colab-df-container\">\n",
              "    <button class=\"colab-df-convert\" onclick=\"convertToInteractive('df-caf69e53-14ca-49f7-a821-adf7da3dfcc5')\"\n",
              "            title=\"Convert this dataframe to an interactive table.\"\n",
              "            style=\"display:none;\">\n",
              "\n",
              "  <svg xmlns=\"http://www.w3.org/2000/svg\" height=\"24px\" viewBox=\"0 -960 960 960\">\n",
              "    <path d=\"M120-120v-720h720v720H120Zm60-500h600v-160H180v160Zm220 220h160v-160H400v160Zm0 220h160v-160H400v160ZM180-400h160v-160H180v160Zm440 0h160v-160H620v160ZM180-180h160v-160H180v160Zm440 0h160v-160H620v160Z\"/>\n",
              "  </svg>\n",
              "    </button>\n",
              "\n",
              "  <style>\n",
              "    .colab-df-container {\n",
              "      display:flex;\n",
              "      gap: 12px;\n",
              "    }\n",
              "\n",
              "    .colab-df-convert {\n",
              "      background-color: #E8F0FE;\n",
              "      border: none;\n",
              "      border-radius: 50%;\n",
              "      cursor: pointer;\n",
              "      display: none;\n",
              "      fill: #1967D2;\n",
              "      height: 32px;\n",
              "      padding: 0 0 0 0;\n",
              "      width: 32px;\n",
              "    }\n",
              "\n",
              "    .colab-df-convert:hover {\n",
              "      background-color: #E2EBFA;\n",
              "      box-shadow: 0px 1px 2px rgba(60, 64, 67, 0.3), 0px 1px 3px 1px rgba(60, 64, 67, 0.15);\n",
              "      fill: #174EA6;\n",
              "    }\n",
              "\n",
              "    .colab-df-buttons div {\n",
              "      margin-bottom: 4px;\n",
              "    }\n",
              "\n",
              "    [theme=dark] .colab-df-convert {\n",
              "      background-color: #3B4455;\n",
              "      fill: #D2E3FC;\n",
              "    }\n",
              "\n",
              "    [theme=dark] .colab-df-convert:hover {\n",
              "      background-color: #434B5C;\n",
              "      box-shadow: 0px 1px 3px 1px rgba(0, 0, 0, 0.15);\n",
              "      filter: drop-shadow(0px 1px 2px rgba(0, 0, 0, 0.3));\n",
              "      fill: #FFFFFF;\n",
              "    }\n",
              "  </style>\n",
              "\n",
              "    <script>\n",
              "      const buttonEl =\n",
              "        document.querySelector('#df-caf69e53-14ca-49f7-a821-adf7da3dfcc5 button.colab-df-convert');\n",
              "      buttonEl.style.display =\n",
              "        google.colab.kernel.accessAllowed ? 'block' : 'none';\n",
              "\n",
              "      async function convertToInteractive(key) {\n",
              "        const element = document.querySelector('#df-caf69e53-14ca-49f7-a821-adf7da3dfcc5');\n",
              "        const dataTable =\n",
              "          await google.colab.kernel.invokeFunction('convertToInteractive',\n",
              "                                                    [key], {});\n",
              "        if (!dataTable) return;\n",
              "\n",
              "        const docLinkHtml = 'Like what you see? Visit the ' +\n",
              "          '<a target=\"_blank\" href=https://colab.research.google.com/notebooks/data_table.ipynb>data table notebook</a>'\n",
              "          + ' to learn more about interactive tables.';\n",
              "        element.innerHTML = '';\n",
              "        dataTable['output_type'] = 'display_data';\n",
              "        await google.colab.output.renderOutput(dataTable, element);\n",
              "        const docLink = document.createElement('div');\n",
              "        docLink.innerHTML = docLinkHtml;\n",
              "        element.appendChild(docLink);\n",
              "      }\n",
              "    </script>\n",
              "  </div>\n",
              "\n",
              "\n",
              "    <div id=\"df-7a0209a4-4602-4acd-b5e0-e6b7ebb4d4f9\">\n",
              "      <button class=\"colab-df-quickchart\" onclick=\"quickchart('df-7a0209a4-4602-4acd-b5e0-e6b7ebb4d4f9')\"\n",
              "                title=\"Suggest charts\"\n",
              "                style=\"display:none;\">\n",
              "\n",
              "<svg xmlns=\"http://www.w3.org/2000/svg\" height=\"24px\"viewBox=\"0 0 24 24\"\n",
              "     width=\"24px\">\n",
              "    <g>\n",
              "        <path d=\"M19 3H5c-1.1 0-2 .9-2 2v14c0 1.1.9 2 2 2h14c1.1 0 2-.9 2-2V5c0-1.1-.9-2-2-2zM9 17H7v-7h2v7zm4 0h-2V7h2v10zm4 0h-2v-4h2v4z\"/>\n",
              "    </g>\n",
              "</svg>\n",
              "      </button>\n",
              "\n",
              "<style>\n",
              "  .colab-df-quickchart {\n",
              "      --bg-color: #E8F0FE;\n",
              "      --fill-color: #1967D2;\n",
              "      --hover-bg-color: #E2EBFA;\n",
              "      --hover-fill-color: #174EA6;\n",
              "      --disabled-fill-color: #AAA;\n",
              "      --disabled-bg-color: #DDD;\n",
              "  }\n",
              "\n",
              "  [theme=dark] .colab-df-quickchart {\n",
              "      --bg-color: #3B4455;\n",
              "      --fill-color: #D2E3FC;\n",
              "      --hover-bg-color: #434B5C;\n",
              "      --hover-fill-color: #FFFFFF;\n",
              "      --disabled-bg-color: #3B4455;\n",
              "      --disabled-fill-color: #666;\n",
              "  }\n",
              "\n",
              "  .colab-df-quickchart {\n",
              "    background-color: var(--bg-color);\n",
              "    border: none;\n",
              "    border-radius: 50%;\n",
              "    cursor: pointer;\n",
              "    display: none;\n",
              "    fill: var(--fill-color);\n",
              "    height: 32px;\n",
              "    padding: 0;\n",
              "    width: 32px;\n",
              "  }\n",
              "\n",
              "  .colab-df-quickchart:hover {\n",
              "    background-color: var(--hover-bg-color);\n",
              "    box-shadow: 0 1px 2px rgba(60, 64, 67, 0.3), 0 1px 3px 1px rgba(60, 64, 67, 0.15);\n",
              "    fill: var(--button-hover-fill-color);\n",
              "  }\n",
              "\n",
              "  .colab-df-quickchart-complete:disabled,\n",
              "  .colab-df-quickchart-complete:disabled:hover {\n",
              "    background-color: var(--disabled-bg-color);\n",
              "    fill: var(--disabled-fill-color);\n",
              "    box-shadow: none;\n",
              "  }\n",
              "\n",
              "  .colab-df-spinner {\n",
              "    border: 2px solid var(--fill-color);\n",
              "    border-color: transparent;\n",
              "    border-bottom-color: var(--fill-color);\n",
              "    animation:\n",
              "      spin 1s steps(1) infinite;\n",
              "  }\n",
              "\n",
              "  @keyframes spin {\n",
              "    0% {\n",
              "      border-color: transparent;\n",
              "      border-bottom-color: var(--fill-color);\n",
              "      border-left-color: var(--fill-color);\n",
              "    }\n",
              "    20% {\n",
              "      border-color: transparent;\n",
              "      border-left-color: var(--fill-color);\n",
              "      border-top-color: var(--fill-color);\n",
              "    }\n",
              "    30% {\n",
              "      border-color: transparent;\n",
              "      border-left-color: var(--fill-color);\n",
              "      border-top-color: var(--fill-color);\n",
              "      border-right-color: var(--fill-color);\n",
              "    }\n",
              "    40% {\n",
              "      border-color: transparent;\n",
              "      border-right-color: var(--fill-color);\n",
              "      border-top-color: var(--fill-color);\n",
              "    }\n",
              "    60% {\n",
              "      border-color: transparent;\n",
              "      border-right-color: var(--fill-color);\n",
              "    }\n",
              "    80% {\n",
              "      border-color: transparent;\n",
              "      border-right-color: var(--fill-color);\n",
              "      border-bottom-color: var(--fill-color);\n",
              "    }\n",
              "    90% {\n",
              "      border-color: transparent;\n",
              "      border-bottom-color: var(--fill-color);\n",
              "    }\n",
              "  }\n",
              "</style>\n",
              "\n",
              "      <script>\n",
              "        async function quickchart(key) {\n",
              "          const quickchartButtonEl =\n",
              "            document.querySelector('#' + key + ' button');\n",
              "          quickchartButtonEl.disabled = true;  // To prevent multiple clicks.\n",
              "          quickchartButtonEl.classList.add('colab-df-spinner');\n",
              "          try {\n",
              "            const charts = await google.colab.kernel.invokeFunction(\n",
              "                'suggestCharts', [key], {});\n",
              "          } catch (error) {\n",
              "            console.error('Error during call to suggestCharts:', error);\n",
              "          }\n",
              "          quickchartButtonEl.classList.remove('colab-df-spinner');\n",
              "          quickchartButtonEl.classList.add('colab-df-quickchart-complete');\n",
              "        }\n",
              "        (() => {\n",
              "          let quickchartButtonEl =\n",
              "            document.querySelector('#df-7a0209a4-4602-4acd-b5e0-e6b7ebb4d4f9 button');\n",
              "          quickchartButtonEl.style.display =\n",
              "            google.colab.kernel.accessAllowed ? 'block' : 'none';\n",
              "        })();\n",
              "      </script>\n",
              "    </div>\n",
              "\n",
              "  <div id=\"id_d90f984f-48b5-4068-aca0-c181b2a47e91\">\n",
              "    <style>\n",
              "      .colab-df-generate {\n",
              "        background-color: #E8F0FE;\n",
              "        border: none;\n",
              "        border-radius: 50%;\n",
              "        cursor: pointer;\n",
              "        display: none;\n",
              "        fill: #1967D2;\n",
              "        height: 32px;\n",
              "        padding: 0 0 0 0;\n",
              "        width: 32px;\n",
              "      }\n",
              "\n",
              "      .colab-df-generate:hover {\n",
              "        background-color: #E2EBFA;\n",
              "        box-shadow: 0px 1px 2px rgba(60, 64, 67, 0.3), 0px 1px 3px 1px rgba(60, 64, 67, 0.15);\n",
              "        fill: #174EA6;\n",
              "      }\n",
              "\n",
              "      [theme=dark] .colab-df-generate {\n",
              "        background-color: #3B4455;\n",
              "        fill: #D2E3FC;\n",
              "      }\n",
              "\n",
              "      [theme=dark] .colab-df-generate:hover {\n",
              "        background-color: #434B5C;\n",
              "        box-shadow: 0px 1px 3px 1px rgba(0, 0, 0, 0.15);\n",
              "        filter: drop-shadow(0px 1px 2px rgba(0, 0, 0, 0.3));\n",
              "        fill: #FFFFFF;\n",
              "      }\n",
              "    </style>\n",
              "    <button class=\"colab-df-generate\" onclick=\"generateWithVariable('df')\"\n",
              "            title=\"Generate code using this dataframe.\"\n",
              "            style=\"display:none;\">\n",
              "\n",
              "  <svg xmlns=\"http://www.w3.org/2000/svg\" height=\"24px\"viewBox=\"0 0 24 24\"\n",
              "       width=\"24px\">\n",
              "    <path d=\"M7,19H8.4L18.45,9,17,7.55,7,17.6ZM5,21V16.75L18.45,3.32a2,2,0,0,1,2.83,0l1.4,1.43a1.91,1.91,0,0,1,.58,1.4,1.91,1.91,0,0,1-.58,1.4L9.25,21ZM18.45,9,17,7.55Zm-12,3A5.31,5.31,0,0,0,4.9,8.1,5.31,5.31,0,0,0,1,6.5,5.31,5.31,0,0,0,4.9,4.9,5.31,5.31,0,0,0,6.5,1,5.31,5.31,0,0,0,8.1,4.9,5.31,5.31,0,0,0,12,6.5,5.46,5.46,0,0,0,6.5,12Z\"/>\n",
              "  </svg>\n",
              "    </button>\n",
              "    <script>\n",
              "      (() => {\n",
              "      const buttonEl =\n",
              "        document.querySelector('#id_d90f984f-48b5-4068-aca0-c181b2a47e91 button.colab-df-generate');\n",
              "      buttonEl.style.display =\n",
              "        google.colab.kernel.accessAllowed ? 'block' : 'none';\n",
              "\n",
              "      buttonEl.onclick = () => {\n",
              "        google.colab.notebook.generateWithVariable('df');\n",
              "      }\n",
              "      })();\n",
              "    </script>\n",
              "  </div>\n",
              "\n",
              "    </div>\n",
              "  </div>\n"
            ],
            "application/vnd.google.colaboratory.intrinsic+json": {
              "type": "dataframe",
              "variable_name": "df",
              "summary": "{\n  \"name\": \"df\",\n  \"rows\": 5,\n  \"fields\": [\n    {\n      \"column\": \"key1\",\n      \"properties\": {\n        \"dtype\": \"category\",\n        \"num_unique_values\": 2,\n        \"samples\": [\n          \"b\",\n          \"a\"\n        ],\n        \"semantic_type\": \"\",\n        \"description\": \"\"\n      }\n    },\n    {\n      \"column\": \"key2\",\n      \"properties\": {\n        \"dtype\": \"category\",\n        \"num_unique_values\": 2,\n        \"samples\": [\n          \"two\",\n          \"one\"\n        ],\n        \"semantic_type\": \"\",\n        \"description\": \"\"\n      }\n    },\n    {\n      \"column\": \"data1\",\n      \"properties\": {\n        \"dtype\": \"number\",\n        \"std\": 1.0539051358393217,\n        \"min\": -0.55573030434749,\n        \"max\": 1.9657805725027142,\n        \"num_unique_values\": 5,\n        \"samples\": [\n          0.47894333805754824,\n          1.9657805725027142\n        ],\n        \"semantic_type\": \"\",\n        \"description\": \"\"\n      }\n    },\n    {\n      \"column\": \"data2\",\n      \"properties\": {\n        \"dtype\": \"number\",\n        \"std\": 0.5726227849154397,\n        \"min\": 0.09290787674371767,\n        \"max\": 1.3934058329729904,\n        \"num_unique_values\": 5,\n        \"samples\": [\n          0.09290787674371767,\n          1.2464347363862822\n        ],\n        \"semantic_type\": \"\",\n        \"description\": \"\"\n      }\n    }\n  ]\n}"
            }
          },
          "metadata": {},
          "execution_count": 2
        }
      ],
      "source": [
        "df = pd.DataFrame({'key1' : ['a', 'a', 'b', 'b', 'a'],\n",
        "                   'key2' : ['one', 'two', 'one', 'two', 'one'],\n",
        "                   'data1' : np.random.randn(5),\n",
        "                   'data2' : np.random.randn(5)})\n",
        "df"
      ]
    },
    {
      "cell_type": "code",
      "execution_count": 3,
      "metadata": {
        "deletable": true,
        "editable": true,
        "id": "_HBpQmAQm8g6",
        "outputId": "f349fd44-9bb3-4ae2-f924-55f8af971197",
        "colab": {
          "base_uri": "https://localhost:8080/"
        }
      },
      "outputs": [
        {
          "output_type": "execute_result",
          "data": {
            "text/plain": [
              "<pandas.core.groupby.generic.SeriesGroupBy object at 0x7f3f54ca3290>"
            ]
          },
          "metadata": {},
          "execution_count": 3
        }
      ],
      "source": [
        "grouped = df['data1'].groupby(df['key1'])\n",
        "grouped\n",
        "\n",
        "#- df['data1'].groupby(df['key1']) gruppiert die data1-Werte nach key1.\n",
        "# Das Ergebnis ist ein GroupBy-Objekt, das die Gruppenverbindungen enthält, aber noch keine aggregierten Werte berechnet.\n"
      ]
    },
    {
      "cell_type": "code",
      "execution_count": 4,
      "metadata": {
        "deletable": true,
        "editable": true,
        "id": "Y9FSb-YVm8g6",
        "outputId": "24189919-0232-481d-97af-0d4caff7d80a",
        "colab": {
          "base_uri": "https://localhost:8080/",
          "height": 178
        }
      },
      "outputs": [
        {
          "output_type": "execute_result",
          "data": {
            "text/plain": [
              "key1\n",
              "a    0.746672\n",
              "b   -0.537585\n",
              "Name: data1, dtype: float64"
            ],
            "text/html": [
              "<div>\n",
              "<style scoped>\n",
              "    .dataframe tbody tr th:only-of-type {\n",
              "        vertical-align: middle;\n",
              "    }\n",
              "\n",
              "    .dataframe tbody tr th {\n",
              "        vertical-align: top;\n",
              "    }\n",
              "\n",
              "    .dataframe thead th {\n",
              "        text-align: right;\n",
              "    }\n",
              "</style>\n",
              "<table border=\"1\" class=\"dataframe\">\n",
              "  <thead>\n",
              "    <tr style=\"text-align: right;\">\n",
              "      <th></th>\n",
              "      <th>data1</th>\n",
              "    </tr>\n",
              "    <tr>\n",
              "      <th>key1</th>\n",
              "      <th></th>\n",
              "    </tr>\n",
              "  </thead>\n",
              "  <tbody>\n",
              "    <tr>\n",
              "      <th>a</th>\n",
              "      <td>0.746672</td>\n",
              "    </tr>\n",
              "    <tr>\n",
              "      <th>b</th>\n",
              "      <td>-0.537585</td>\n",
              "    </tr>\n",
              "  </tbody>\n",
              "</table>\n",
              "</div><br><label><b>dtype:</b> float64</label>"
            ]
          },
          "metadata": {},
          "execution_count": 4
        }
      ],
      "source": [
        "grouped.mean()"
      ]
    },
    {
      "cell_type": "code",
      "execution_count": 5,
      "metadata": {
        "deletable": true,
        "editable": true,
        "id": "iRApleB3m8g6",
        "outputId": "8824bcdd-b413-45ee-9c4b-393eab7efd32",
        "colab": {
          "base_uri": "https://localhost:8080/",
          "height": 240
        }
      },
      "outputs": [
        {
          "output_type": "execute_result",
          "data": {
            "text/plain": [
              "key1  key2\n",
              "a     one     0.880536\n",
              "      two     0.478943\n",
              "b     one    -0.519439\n",
              "      two    -0.555730\n",
              "Name: data1, dtype: float64"
            ],
            "text/html": [
              "<div>\n",
              "<style scoped>\n",
              "    .dataframe tbody tr th:only-of-type {\n",
              "        vertical-align: middle;\n",
              "    }\n",
              "\n",
              "    .dataframe tbody tr th {\n",
              "        vertical-align: top;\n",
              "    }\n",
              "\n",
              "    .dataframe thead th {\n",
              "        text-align: right;\n",
              "    }\n",
              "</style>\n",
              "<table border=\"1\" class=\"dataframe\">\n",
              "  <thead>\n",
              "    <tr style=\"text-align: right;\">\n",
              "      <th></th>\n",
              "      <th></th>\n",
              "      <th>data1</th>\n",
              "    </tr>\n",
              "    <tr>\n",
              "      <th>key1</th>\n",
              "      <th>key2</th>\n",
              "      <th></th>\n",
              "    </tr>\n",
              "  </thead>\n",
              "  <tbody>\n",
              "    <tr>\n",
              "      <th rowspan=\"2\" valign=\"top\">a</th>\n",
              "      <th>one</th>\n",
              "      <td>0.880536</td>\n",
              "    </tr>\n",
              "    <tr>\n",
              "      <th>two</th>\n",
              "      <td>0.478943</td>\n",
              "    </tr>\n",
              "    <tr>\n",
              "      <th rowspan=\"2\" valign=\"top\">b</th>\n",
              "      <th>one</th>\n",
              "      <td>-0.519439</td>\n",
              "    </tr>\n",
              "    <tr>\n",
              "      <th>two</th>\n",
              "      <td>-0.555730</td>\n",
              "    </tr>\n",
              "  </tbody>\n",
              "</table>\n",
              "</div><br><label><b>dtype:</b> float64</label>"
            ]
          },
          "metadata": {},
          "execution_count": 5
        }
      ],
      "source": [
        "means = df['data1'].groupby([df['key1'], df['key2']]).mean()\n",
        "means"
      ]
    },
    {
      "cell_type": "code",
      "execution_count": 6,
      "metadata": {
        "deletable": true,
        "editable": true,
        "id": "z_A7BIa2m8g6",
        "outputId": "0e9b698f-5c91-4417-97ea-d3cbc02265d7",
        "colab": {
          "base_uri": "https://localhost:8080/",
          "height": 143
        }
      },
      "outputs": [
        {
          "output_type": "execute_result",
          "data": {
            "text/plain": [
              "key2       one       two\n",
              "key1                    \n",
              "a     0.880536  0.478943\n",
              "b    -0.519439 -0.555730"
            ],
            "text/html": [
              "\n",
              "  <div id=\"df-f2a5546a-6a17-4206-a163-f61e541fa697\" class=\"colab-df-container\">\n",
              "    <div>\n",
              "<style scoped>\n",
              "    .dataframe tbody tr th:only-of-type {\n",
              "        vertical-align: middle;\n",
              "    }\n",
              "\n",
              "    .dataframe tbody tr th {\n",
              "        vertical-align: top;\n",
              "    }\n",
              "\n",
              "    .dataframe thead th {\n",
              "        text-align: right;\n",
              "    }\n",
              "</style>\n",
              "<table border=\"1\" class=\"dataframe\">\n",
              "  <thead>\n",
              "    <tr style=\"text-align: right;\">\n",
              "      <th>key2</th>\n",
              "      <th>one</th>\n",
              "      <th>two</th>\n",
              "    </tr>\n",
              "    <tr>\n",
              "      <th>key1</th>\n",
              "      <th></th>\n",
              "      <th></th>\n",
              "    </tr>\n",
              "  </thead>\n",
              "  <tbody>\n",
              "    <tr>\n",
              "      <th>a</th>\n",
              "      <td>0.880536</td>\n",
              "      <td>0.478943</td>\n",
              "    </tr>\n",
              "    <tr>\n",
              "      <th>b</th>\n",
              "      <td>-0.519439</td>\n",
              "      <td>-0.555730</td>\n",
              "    </tr>\n",
              "  </tbody>\n",
              "</table>\n",
              "</div>\n",
              "    <div class=\"colab-df-buttons\">\n",
              "\n",
              "  <div class=\"colab-df-container\">\n",
              "    <button class=\"colab-df-convert\" onclick=\"convertToInteractive('df-f2a5546a-6a17-4206-a163-f61e541fa697')\"\n",
              "            title=\"Convert this dataframe to an interactive table.\"\n",
              "            style=\"display:none;\">\n",
              "\n",
              "  <svg xmlns=\"http://www.w3.org/2000/svg\" height=\"24px\" viewBox=\"0 -960 960 960\">\n",
              "    <path d=\"M120-120v-720h720v720H120Zm60-500h600v-160H180v160Zm220 220h160v-160H400v160Zm0 220h160v-160H400v160ZM180-400h160v-160H180v160Zm440 0h160v-160H620v160ZM180-180h160v-160H180v160Zm440 0h160v-160H620v160Z\"/>\n",
              "  </svg>\n",
              "    </button>\n",
              "\n",
              "  <style>\n",
              "    .colab-df-container {\n",
              "      display:flex;\n",
              "      gap: 12px;\n",
              "    }\n",
              "\n",
              "    .colab-df-convert {\n",
              "      background-color: #E8F0FE;\n",
              "      border: none;\n",
              "      border-radius: 50%;\n",
              "      cursor: pointer;\n",
              "      display: none;\n",
              "      fill: #1967D2;\n",
              "      height: 32px;\n",
              "      padding: 0 0 0 0;\n",
              "      width: 32px;\n",
              "    }\n",
              "\n",
              "    .colab-df-convert:hover {\n",
              "      background-color: #E2EBFA;\n",
              "      box-shadow: 0px 1px 2px rgba(60, 64, 67, 0.3), 0px 1px 3px 1px rgba(60, 64, 67, 0.15);\n",
              "      fill: #174EA6;\n",
              "    }\n",
              "\n",
              "    .colab-df-buttons div {\n",
              "      margin-bottom: 4px;\n",
              "    }\n",
              "\n",
              "    [theme=dark] .colab-df-convert {\n",
              "      background-color: #3B4455;\n",
              "      fill: #D2E3FC;\n",
              "    }\n",
              "\n",
              "    [theme=dark] .colab-df-convert:hover {\n",
              "      background-color: #434B5C;\n",
              "      box-shadow: 0px 1px 3px 1px rgba(0, 0, 0, 0.15);\n",
              "      filter: drop-shadow(0px 1px 2px rgba(0, 0, 0, 0.3));\n",
              "      fill: #FFFFFF;\n",
              "    }\n",
              "  </style>\n",
              "\n",
              "    <script>\n",
              "      const buttonEl =\n",
              "        document.querySelector('#df-f2a5546a-6a17-4206-a163-f61e541fa697 button.colab-df-convert');\n",
              "      buttonEl.style.display =\n",
              "        google.colab.kernel.accessAllowed ? 'block' : 'none';\n",
              "\n",
              "      async function convertToInteractive(key) {\n",
              "        const element = document.querySelector('#df-f2a5546a-6a17-4206-a163-f61e541fa697');\n",
              "        const dataTable =\n",
              "          await google.colab.kernel.invokeFunction('convertToInteractive',\n",
              "                                                    [key], {});\n",
              "        if (!dataTable) return;\n",
              "\n",
              "        const docLinkHtml = 'Like what you see? Visit the ' +\n",
              "          '<a target=\"_blank\" href=https://colab.research.google.com/notebooks/data_table.ipynb>data table notebook</a>'\n",
              "          + ' to learn more about interactive tables.';\n",
              "        element.innerHTML = '';\n",
              "        dataTable['output_type'] = 'display_data';\n",
              "        await google.colab.output.renderOutput(dataTable, element);\n",
              "        const docLink = document.createElement('div');\n",
              "        docLink.innerHTML = docLinkHtml;\n",
              "        element.appendChild(docLink);\n",
              "      }\n",
              "    </script>\n",
              "  </div>\n",
              "\n",
              "\n",
              "    <div id=\"df-26de3fe0-ad2b-4f4f-b1fd-bed9664f0bb2\">\n",
              "      <button class=\"colab-df-quickchart\" onclick=\"quickchart('df-26de3fe0-ad2b-4f4f-b1fd-bed9664f0bb2')\"\n",
              "                title=\"Suggest charts\"\n",
              "                style=\"display:none;\">\n",
              "\n",
              "<svg xmlns=\"http://www.w3.org/2000/svg\" height=\"24px\"viewBox=\"0 0 24 24\"\n",
              "     width=\"24px\">\n",
              "    <g>\n",
              "        <path d=\"M19 3H5c-1.1 0-2 .9-2 2v14c0 1.1.9 2 2 2h14c1.1 0 2-.9 2-2V5c0-1.1-.9-2-2-2zM9 17H7v-7h2v7zm4 0h-2V7h2v10zm4 0h-2v-4h2v4z\"/>\n",
              "    </g>\n",
              "</svg>\n",
              "      </button>\n",
              "\n",
              "<style>\n",
              "  .colab-df-quickchart {\n",
              "      --bg-color: #E8F0FE;\n",
              "      --fill-color: #1967D2;\n",
              "      --hover-bg-color: #E2EBFA;\n",
              "      --hover-fill-color: #174EA6;\n",
              "      --disabled-fill-color: #AAA;\n",
              "      --disabled-bg-color: #DDD;\n",
              "  }\n",
              "\n",
              "  [theme=dark] .colab-df-quickchart {\n",
              "      --bg-color: #3B4455;\n",
              "      --fill-color: #D2E3FC;\n",
              "      --hover-bg-color: #434B5C;\n",
              "      --hover-fill-color: #FFFFFF;\n",
              "      --disabled-bg-color: #3B4455;\n",
              "      --disabled-fill-color: #666;\n",
              "  }\n",
              "\n",
              "  .colab-df-quickchart {\n",
              "    background-color: var(--bg-color);\n",
              "    border: none;\n",
              "    border-radius: 50%;\n",
              "    cursor: pointer;\n",
              "    display: none;\n",
              "    fill: var(--fill-color);\n",
              "    height: 32px;\n",
              "    padding: 0;\n",
              "    width: 32px;\n",
              "  }\n",
              "\n",
              "  .colab-df-quickchart:hover {\n",
              "    background-color: var(--hover-bg-color);\n",
              "    box-shadow: 0 1px 2px rgba(60, 64, 67, 0.3), 0 1px 3px 1px rgba(60, 64, 67, 0.15);\n",
              "    fill: var(--button-hover-fill-color);\n",
              "  }\n",
              "\n",
              "  .colab-df-quickchart-complete:disabled,\n",
              "  .colab-df-quickchart-complete:disabled:hover {\n",
              "    background-color: var(--disabled-bg-color);\n",
              "    fill: var(--disabled-fill-color);\n",
              "    box-shadow: none;\n",
              "  }\n",
              "\n",
              "  .colab-df-spinner {\n",
              "    border: 2px solid var(--fill-color);\n",
              "    border-color: transparent;\n",
              "    border-bottom-color: var(--fill-color);\n",
              "    animation:\n",
              "      spin 1s steps(1) infinite;\n",
              "  }\n",
              "\n",
              "  @keyframes spin {\n",
              "    0% {\n",
              "      border-color: transparent;\n",
              "      border-bottom-color: var(--fill-color);\n",
              "      border-left-color: var(--fill-color);\n",
              "    }\n",
              "    20% {\n",
              "      border-color: transparent;\n",
              "      border-left-color: var(--fill-color);\n",
              "      border-top-color: var(--fill-color);\n",
              "    }\n",
              "    30% {\n",
              "      border-color: transparent;\n",
              "      border-left-color: var(--fill-color);\n",
              "      border-top-color: var(--fill-color);\n",
              "      border-right-color: var(--fill-color);\n",
              "    }\n",
              "    40% {\n",
              "      border-color: transparent;\n",
              "      border-right-color: var(--fill-color);\n",
              "      border-top-color: var(--fill-color);\n",
              "    }\n",
              "    60% {\n",
              "      border-color: transparent;\n",
              "      border-right-color: var(--fill-color);\n",
              "    }\n",
              "    80% {\n",
              "      border-color: transparent;\n",
              "      border-right-color: var(--fill-color);\n",
              "      border-bottom-color: var(--fill-color);\n",
              "    }\n",
              "    90% {\n",
              "      border-color: transparent;\n",
              "      border-bottom-color: var(--fill-color);\n",
              "    }\n",
              "  }\n",
              "</style>\n",
              "\n",
              "      <script>\n",
              "        async function quickchart(key) {\n",
              "          const quickchartButtonEl =\n",
              "            document.querySelector('#' + key + ' button');\n",
              "          quickchartButtonEl.disabled = true;  // To prevent multiple clicks.\n",
              "          quickchartButtonEl.classList.add('colab-df-spinner');\n",
              "          try {\n",
              "            const charts = await google.colab.kernel.invokeFunction(\n",
              "                'suggestCharts', [key], {});\n",
              "          } catch (error) {\n",
              "            console.error('Error during call to suggestCharts:', error);\n",
              "          }\n",
              "          quickchartButtonEl.classList.remove('colab-df-spinner');\n",
              "          quickchartButtonEl.classList.add('colab-df-quickchart-complete');\n",
              "        }\n",
              "        (() => {\n",
              "          let quickchartButtonEl =\n",
              "            document.querySelector('#df-26de3fe0-ad2b-4f4f-b1fd-bed9664f0bb2 button');\n",
              "          quickchartButtonEl.style.display =\n",
              "            google.colab.kernel.accessAllowed ? 'block' : 'none';\n",
              "        })();\n",
              "      </script>\n",
              "    </div>\n",
              "\n",
              "    </div>\n",
              "  </div>\n"
            ],
            "application/vnd.google.colaboratory.intrinsic+json": {
              "type": "dataframe",
              "summary": "{\n  \"name\": \"means\",\n  \"rows\": 2,\n  \"fields\": [\n    {\n      \"column\": \"key1\",\n      \"properties\": {\n        \"dtype\": \"string\",\n        \"num_unique_values\": 2,\n        \"samples\": [\n          \"b\",\n          \"a\"\n        ],\n        \"semantic_type\": \"\",\n        \"description\": \"\"\n      }\n    },\n    {\n      \"column\": \"one\",\n      \"properties\": {\n        \"dtype\": \"number\",\n        \"std\": 0.9899319373069342,\n        \"min\": -0.5194387150567381,\n        \"max\": 0.8805364565090006,\n        \"num_unique_values\": 2,\n        \"samples\": [\n          -0.5194387150567381,\n          0.8805364565090006\n        ],\n        \"semantic_type\": \"\",\n        \"description\": \"\"\n      }\n    },\n    {\n      \"column\": \"two\",\n      \"properties\": {\n        \"dtype\": \"number\",\n        \"std\": 0.7316247488595875,\n        \"min\": -0.55573030434749,\n        \"max\": 0.47894333805754824,\n        \"num_unique_values\": 2,\n        \"samples\": [\n          -0.55573030434749,\n          0.47894333805754824\n        ],\n        \"semantic_type\": \"\",\n        \"description\": \"\"\n      }\n    }\n  ]\n}"
            }
          },
          "metadata": {},
          "execution_count": 6
        }
      ],
      "source": [
        "means.unstack()\n",
        "# wandelt hieraschiche Indexstruktur (mit mehreren Indices) in eine flache Tabelle um\n",
        "# innere Ebenen eines Indexes werden zu Spalten umgewandelt\n",
        "# wandelt eine gruppierte Tabelle in eine leicht lesbare und analysierbare Form um\n"
      ]
    },
    {
      "cell_type": "code",
      "execution_count": null,
      "metadata": {
        "deletable": true,
        "editable": true,
        "id": "dtbJLM6Cm8g6"
      },
      "outputs": [],
      "source": [
        "states = np.array(['Ohio', 'California', 'California', 'Ohio', 'Ohio'])\n",
        "years = np.array([2005, 2005, 2006, 2005, 2006])\n",
        "df['data1'].groupby([states, years]).mean()"
      ]
    },
    {
      "cell_type": "code",
      "execution_count": null,
      "metadata": {
        "deletable": true,
        "editable": true,
        "id": "T0iFN0E-m8g7"
      },
      "outputs": [],
      "source": [
        "df.groupby('key1').mean()\n",
        "df.groupby(['key1', 'key2']).mean()"
      ]
    },
    {
      "cell_type": "code",
      "execution_count": null,
      "metadata": {
        "deletable": true,
        "editable": true,
        "id": "gq0uhX-Um8g7"
      },
      "outputs": [],
      "source": [
        "df.groupby(['key1', 'key2']).size()"
      ]
    },
    {
      "cell_type": "markdown",
      "metadata": {
        "deletable": true,
        "editable": true,
        "id": "0tFXr2Nsm8g7"
      },
      "source": [
        "### Iterating Over Groups"
      ]
    },
    {
      "cell_type": "code",
      "execution_count": null,
      "metadata": {
        "deletable": true,
        "editable": true,
        "id": "oXa9cQg-m8g7"
      },
      "outputs": [],
      "source": [
        "for name, group in df.groupby('key1'):\n",
        "    print(name)\n",
        "    print(group)"
      ]
    },
    {
      "cell_type": "code",
      "execution_count": null,
      "metadata": {
        "deletable": true,
        "editable": true,
        "id": "adaB2vK5m8g7"
      },
      "outputs": [],
      "source": [
        "for (k1, k2), group in df.groupby(['key1', 'key2']):\n",
        "    print((k1, k2))\n",
        "    print(group)"
      ]
    },
    {
      "cell_type": "code",
      "execution_count": null,
      "metadata": {
        "deletable": true,
        "editable": true,
        "id": "y199VQ4im8g7"
      },
      "outputs": [],
      "source": [
        "pieces = dict(list(df.groupby('key1')))\n",
        "pieces['b']"
      ]
    },
    {
      "cell_type": "code",
      "execution_count": null,
      "metadata": {
        "deletable": true,
        "editable": true,
        "id": "nlWZW0l6m8g7"
      },
      "outputs": [],
      "source": [
        "df.dtypes\n",
        "grouped = df.groupby(df.dtypes, axis=1)"
      ]
    },
    {
      "cell_type": "code",
      "execution_count": null,
      "metadata": {
        "deletable": true,
        "editable": true,
        "id": "0g4d5cCIm8g7"
      },
      "outputs": [],
      "source": [
        "for dtype, group in grouped:\n",
        "    print(dtype)\n",
        "    print(group)"
      ]
    },
    {
      "cell_type": "markdown",
      "metadata": {
        "deletable": true,
        "editable": true,
        "id": "s2Q4cfN-m8g8"
      },
      "source": [
        "### Selecting a Column or Subset of Columns"
      ]
    },
    {
      "cell_type": "markdown",
      "metadata": {
        "deletable": true,
        "editable": true,
        "id": "il9DtPbIm8g8"
      },
      "source": [
        "df.groupby('key1')['data1']\n",
        "df.groupby('key1')[['data2']]"
      ]
    },
    {
      "cell_type": "markdown",
      "metadata": {
        "deletable": true,
        "editable": true,
        "id": "8QO5jlOjm8g8"
      },
      "source": [
        "df['data1'].groupby(df['key1'])\n",
        "df[['data2']].groupby(df['key1'])"
      ]
    },
    {
      "cell_type": "code",
      "execution_count": null,
      "metadata": {
        "deletable": true,
        "editable": true,
        "id": "cK3LunMHm8g8"
      },
      "outputs": [],
      "source": [
        "df.groupby(['key1', 'key2'])[['data2']].mean()"
      ]
    },
    {
      "cell_type": "code",
      "execution_count": null,
      "metadata": {
        "deletable": true,
        "editable": true,
        "id": "CUdbKNqvm8g8"
      },
      "outputs": [],
      "source": [
        "s_grouped = df.groupby(['key1', 'key2'])['data2']\n",
        "s_grouped\n",
        "s_grouped.mean()"
      ]
    },
    {
      "cell_type": "markdown",
      "metadata": {
        "deletable": true,
        "editable": true,
        "id": "0dA4OsNtm8g8"
      },
      "source": [
        "### Grouping with Dicts and Series"
      ]
    },
    {
      "cell_type": "code",
      "execution_count": null,
      "metadata": {
        "deletable": true,
        "editable": true,
        "id": "g3jW3lu8m8g8"
      },
      "outputs": [],
      "source": [
        "people = pd.DataFrame(np.random.randn(5, 5),\n",
        "                      columns=['a', 'b', 'c', 'd', 'e'],\n",
        "                      index=['Joe', 'Steve', 'Wes', 'Jim', 'Travis'])\n",
        "people.iloc[2:3, [1, 2]] = np.nan # Add a few NA values\n",
        "people"
      ]
    },
    {
      "cell_type": "code",
      "execution_count": null,
      "metadata": {
        "deletable": true,
        "editable": true,
        "id": "TPvDR7r9m8g8"
      },
      "outputs": [],
      "source": [
        "mapping = {'a': 'red', 'b': 'red', 'c': 'blue',\n",
        "           'd': 'blue', 'e': 'red', 'f' : 'orange'}"
      ]
    },
    {
      "cell_type": "code",
      "execution_count": null,
      "metadata": {
        "deletable": true,
        "editable": true,
        "id": "1rCYhTFcm8g8"
      },
      "outputs": [],
      "source": [
        "by_column = people.groupby(mapping, axis=1)\n",
        "by_column.sum()"
      ]
    },
    {
      "cell_type": "code",
      "execution_count": null,
      "metadata": {
        "deletable": true,
        "editable": true,
        "id": "7p3mFU5Fm8g8"
      },
      "outputs": [],
      "source": [
        "map_series = pd.Series(mapping)\n",
        "map_series\n",
        "people.groupby(map_series, axis=1).count()"
      ]
    },
    {
      "cell_type": "markdown",
      "metadata": {
        "deletable": true,
        "editable": true,
        "id": "TcioSwEPm8g8"
      },
      "source": [
        "### Grouping with Functions"
      ]
    },
    {
      "cell_type": "code",
      "execution_count": null,
      "metadata": {
        "deletable": true,
        "editable": true,
        "id": "ujhWjjJUm8g8"
      },
      "outputs": [],
      "source": [
        "people.groupby(len).sum()"
      ]
    },
    {
      "cell_type": "code",
      "execution_count": null,
      "metadata": {
        "deletable": true,
        "editable": true,
        "id": "YGgpWAlcm8g9"
      },
      "outputs": [],
      "source": [
        "key_list = ['one', 'one', 'one', 'two', 'two']\n",
        "people.groupby([len, key_list]).min()"
      ]
    },
    {
      "cell_type": "markdown",
      "metadata": {
        "deletable": true,
        "editable": true,
        "id": "NrvWudMMm8g9"
      },
      "source": [
        "### Grouping by Index Levels"
      ]
    },
    {
      "cell_type": "code",
      "execution_count": null,
      "metadata": {
        "deletable": true,
        "editable": true,
        "id": "b6nA3Kd0m8g9"
      },
      "outputs": [],
      "source": [
        "columns = pd.MultiIndex.from_arrays([['US', 'US', 'US', 'JP', 'JP'],\n",
        "                                    [1, 3, 5, 1, 3]],\n",
        "                                    names=['cty', 'tenor'])\n",
        "hier_df = pd.DataFrame(np.random.randn(4, 5), columns=columns)\n",
        "hier_df"
      ]
    },
    {
      "cell_type": "code",
      "execution_count": null,
      "metadata": {
        "deletable": true,
        "editable": true,
        "id": "7muCHtHem8g9"
      },
      "outputs": [],
      "source": [
        "hier_df.groupby(level='cty', axis=1).count()"
      ]
    },
    {
      "cell_type": "markdown",
      "metadata": {
        "deletable": true,
        "editable": true,
        "id": "Zl-zpOgVm8g9"
      },
      "source": [
        "## Data Aggregation"
      ]
    },
    {
      "cell_type": "code",
      "execution_count": null,
      "metadata": {
        "deletable": true,
        "editable": true,
        "id": "ShMAquiXm8g9"
      },
      "outputs": [],
      "source": [
        "df\n",
        "grouped = df.groupby('key1')\n",
        "grouped['data1'].quantile(0.9)"
      ]
    },
    {
      "cell_type": "code",
      "execution_count": null,
      "metadata": {
        "deletable": true,
        "editable": true,
        "id": "kRanc2V4m8g9"
      },
      "outputs": [],
      "source": [
        "def peak_to_peak(arr):\n",
        "    return arr.max() - arr.min()\n",
        "grouped.agg(peak_to_peak)"
      ]
    },
    {
      "cell_type": "code",
      "execution_count": null,
      "metadata": {
        "deletable": true,
        "editable": true,
        "id": "Inshk-Ccm8g9"
      },
      "outputs": [],
      "source": [
        "grouped.describe()"
      ]
    },
    {
      "cell_type": "markdown",
      "metadata": {
        "deletable": true,
        "editable": true,
        "id": "qsu3f1rXm8g9"
      },
      "source": [
        "### Column-Wise and Multiple Function Application"
      ]
    },
    {
      "cell_type": "code",
      "execution_count": null,
      "metadata": {
        "deletable": true,
        "editable": true,
        "id": "Df615uSzm8g9"
      },
      "outputs": [],
      "source": [
        "tips = pd.read_csv('examples/tips.csv')\n",
        "# Add tip percentage of total bill\n",
        "tips['tip_pct'] = tips['tip'] / tips['total_bill']\n",
        "tips[:6]"
      ]
    },
    {
      "cell_type": "code",
      "execution_count": null,
      "metadata": {
        "deletable": true,
        "editable": true,
        "id": "N4oes3EFm8hA"
      },
      "outputs": [],
      "source": [
        "grouped = tips.groupby(['day', 'smoker'])"
      ]
    },
    {
      "cell_type": "code",
      "execution_count": null,
      "metadata": {
        "deletable": true,
        "editable": true,
        "id": "G-7poSigm8hA"
      },
      "outputs": [],
      "source": [
        "grouped_pct = grouped['tip_pct']\n",
        "grouped_pct.agg('mean')"
      ]
    },
    {
      "cell_type": "code",
      "execution_count": null,
      "metadata": {
        "deletable": true,
        "editable": true,
        "id": "PTgTCv00m8hB"
      },
      "outputs": [],
      "source": [
        "grouped_pct.agg(['mean', 'std', peak_to_peak])"
      ]
    },
    {
      "cell_type": "code",
      "execution_count": null,
      "metadata": {
        "deletable": true,
        "editable": true,
        "id": "hfFyWdHtm8hB"
      },
      "outputs": [],
      "source": [
        "grouped_pct.agg([('foo', 'mean'), ('bar', np.std)])"
      ]
    },
    {
      "cell_type": "code",
      "execution_count": null,
      "metadata": {
        "deletable": true,
        "editable": true,
        "id": "7Z1F9oTPm8hB"
      },
      "outputs": [],
      "source": [
        "functions = ['count', 'mean', 'max']\n",
        "result = grouped['tip_pct', 'total_bill'].agg(functions)\n",
        "result"
      ]
    },
    {
      "cell_type": "code",
      "execution_count": null,
      "metadata": {
        "deletable": true,
        "editable": true,
        "id": "VpFlNOkvm8hB"
      },
      "outputs": [],
      "source": [
        "result['tip_pct']"
      ]
    },
    {
      "cell_type": "code",
      "execution_count": null,
      "metadata": {
        "deletable": true,
        "editable": true,
        "id": "ADrYzgVpm8hB"
      },
      "outputs": [],
      "source": [
        "ftuples = [('Durchschnitt', 'mean'), ('Abweichung', np.var)]\n",
        "grouped['tip_pct', 'total_bill'].agg(ftuples)"
      ]
    },
    {
      "cell_type": "code",
      "execution_count": null,
      "metadata": {
        "deletable": true,
        "editable": true,
        "id": "9zoMnNBHm8hB"
      },
      "outputs": [],
      "source": [
        "grouped.agg({'tip' : np.max, 'size' : 'sum'})\n",
        "grouped.agg({'tip_pct' : ['min', 'max', 'mean', 'std'],\n",
        "             'size' : 'sum'})"
      ]
    },
    {
      "cell_type": "markdown",
      "metadata": {
        "deletable": true,
        "editable": true,
        "id": "0v0QPyA0m8hB"
      },
      "source": [
        "### Returning Aggregated Data Without Row Indexes"
      ]
    },
    {
      "cell_type": "code",
      "execution_count": null,
      "metadata": {
        "deletable": true,
        "editable": true,
        "id": "nyXGWiuRm8hB"
      },
      "outputs": [],
      "source": [
        "tips.groupby(['day', 'smoker'], as_index=False).mean()"
      ]
    },
    {
      "cell_type": "markdown",
      "metadata": {
        "deletable": true,
        "editable": true,
        "id": "oygeXf2mm8hB"
      },
      "source": [
        "## Apply: General split-apply-combine"
      ]
    },
    {
      "cell_type": "code",
      "execution_count": null,
      "metadata": {
        "deletable": true,
        "editable": true,
        "id": "7Ql2zriKm8hB"
      },
      "outputs": [],
      "source": [
        "def top(df, n=5, column='tip_pct'):\n",
        "    return df.sort_values(by=column)[-n:]\n",
        "top(tips, n=6)"
      ]
    },
    {
      "cell_type": "code",
      "execution_count": null,
      "metadata": {
        "deletable": true,
        "editable": true,
        "id": "VK899RjHm8hC"
      },
      "outputs": [],
      "source": [
        "tips.groupby('smoker').apply(top)"
      ]
    },
    {
      "cell_type": "code",
      "execution_count": null,
      "metadata": {
        "deletable": true,
        "editable": true,
        "id": "LsGRhsR1m8hC"
      },
      "outputs": [],
      "source": [
        "tips.groupby(['smoker', 'day']).apply(top, n=1, column='total_bill')"
      ]
    },
    {
      "cell_type": "code",
      "execution_count": null,
      "metadata": {
        "deletable": true,
        "editable": true,
        "id": "444543bfm8hC"
      },
      "outputs": [],
      "source": [
        "result = tips.groupby('smoker')['tip_pct'].describe()\n",
        "result\n",
        "result.unstack('smoker')"
      ]
    },
    {
      "cell_type": "markdown",
      "metadata": {
        "deletable": true,
        "editable": true,
        "id": "Wp2zlikym8hC"
      },
      "source": [
        "f = lambda x: x.describe()\n",
        "grouped.apply(f)"
      ]
    },
    {
      "cell_type": "markdown",
      "metadata": {
        "deletable": true,
        "editable": true,
        "id": "OAQHFwPGm8hC"
      },
      "source": [
        "### Suppressing the Group Keys"
      ]
    },
    {
      "cell_type": "code",
      "execution_count": null,
      "metadata": {
        "deletable": true,
        "editable": true,
        "id": "SekeNyQrm8hC"
      },
      "outputs": [],
      "source": [
        "tips.groupby('smoker', group_keys=False).apply(top)"
      ]
    },
    {
      "cell_type": "markdown",
      "metadata": {
        "deletable": true,
        "editable": true,
        "id": "PgZqlKuHm8hC"
      },
      "source": [
        "### Quantile and Bucket Analysis"
      ]
    },
    {
      "cell_type": "code",
      "execution_count": null,
      "metadata": {
        "deletable": true,
        "editable": true,
        "id": "ybTFtpu7m8hC"
      },
      "outputs": [],
      "source": [
        "frame = pd.DataFrame({'data1': np.random.randn(1000),\n",
        "                      'data2': np.random.randn(1000)})\n",
        "quartiles = pd.cut(frame.data1, 4)\n",
        "quartiles[:10]"
      ]
    },
    {
      "cell_type": "code",
      "execution_count": null,
      "metadata": {
        "deletable": true,
        "editable": true,
        "id": "FrjNBVxBm8hC"
      },
      "outputs": [],
      "source": [
        "def get_stats(group):\n",
        "    return {'min': group.min(), 'max': group.max(),\n",
        "            'count': group.count(), 'mean': group.mean()}\n",
        "grouped = frame.data2.groupby(quartiles)\n",
        "grouped.apply(get_stats).unstack()"
      ]
    },
    {
      "cell_type": "code",
      "execution_count": null,
      "metadata": {
        "deletable": true,
        "editable": true,
        "id": "ILULsp0fm8hC"
      },
      "outputs": [],
      "source": [
        "# Return quantile numbers\n",
        "grouping = pd.qcut(frame.data1, 10, labels=False)\n",
        "grouped = frame.data2.groupby(grouping)\n",
        "grouped.apply(get_stats).unstack()"
      ]
    },
    {
      "cell_type": "markdown",
      "metadata": {
        "deletable": true,
        "editable": true,
        "id": "idZ_h8EHm8hD"
      },
      "source": [
        "### Example: Filling Missing Values with Group-Specific       Values"
      ]
    },
    {
      "cell_type": "code",
      "execution_count": null,
      "metadata": {
        "deletable": true,
        "editable": true,
        "id": "nprbl15Hm8hD"
      },
      "outputs": [],
      "source": [
        "s = pd.Series(np.random.randn(6))\n",
        "s[::2] = np.nan\n",
        "s\n",
        "s.fillna(s.mean())"
      ]
    },
    {
      "cell_type": "code",
      "execution_count": null,
      "metadata": {
        "deletable": true,
        "editable": true,
        "id": "qLXaco36m8hD"
      },
      "outputs": [],
      "source": [
        "states = ['Ohio', 'New York', 'Vermont', 'Florida',\n",
        "          'Oregon', 'Nevada', 'California', 'Idaho']\n",
        "group_key = ['East'] * 4 + ['West'] * 4\n",
        "data = pd.Series(np.random.randn(8), index=states)\n",
        "data"
      ]
    },
    {
      "cell_type": "code",
      "execution_count": null,
      "metadata": {
        "deletable": true,
        "editable": true,
        "id": "7tdDHYoCm8hD"
      },
      "outputs": [],
      "source": [
        "data[['Vermont', 'Nevada', 'Idaho']] = np.nan\n",
        "data\n",
        "data.groupby(group_key).mean()"
      ]
    },
    {
      "cell_type": "code",
      "execution_count": null,
      "metadata": {
        "deletable": true,
        "editable": true,
        "id": "Rp22XStfm8hD"
      },
      "outputs": [],
      "source": [
        "fill_mean = lambda g: g.fillna(g.mean())\n",
        "data.groupby(group_key).apply(fill_mean)"
      ]
    },
    {
      "cell_type": "code",
      "execution_count": null,
      "metadata": {
        "deletable": true,
        "editable": true,
        "id": "aJX19mn1m8hD"
      },
      "outputs": [],
      "source": [
        "fill_values = {'East': 0.5, 'West': -1}\n",
        "fill_func = lambda g: g.fillna(fill_values[g.name])\n",
        "data.groupby(group_key).apply(fill_func)"
      ]
    },
    {
      "cell_type": "markdown",
      "metadata": {
        "deletable": true,
        "editable": true,
        "id": "vz0iSQj9m8hD"
      },
      "source": [
        "### Example: Random Sampling and Permutation"
      ]
    },
    {
      "cell_type": "code",
      "execution_count": null,
      "metadata": {
        "deletable": true,
        "editable": true,
        "id": "HB6RhSJUm8hD"
      },
      "outputs": [],
      "source": [
        "# Hearts, Spades, Clubs, Diamonds\n",
        "suits = ['H', 'S', 'C', 'D']\n",
        "card_val = (list(range(1, 11)) + [10] * 3) * 4\n",
        "base_names = ['A'] + list(range(2, 11)) + ['J', 'K', 'Q']\n",
        "cards = []\n",
        "for suit in ['H', 'S', 'C', 'D']:\n",
        "    cards.extend(str(num) + suit for num in base_names)\n",
        "\n",
        "deck = pd.Series(card_val, index=cards)"
      ]
    },
    {
      "cell_type": "code",
      "execution_count": null,
      "metadata": {
        "deletable": true,
        "editable": true,
        "id": "EfqkKcBVm8hD"
      },
      "outputs": [],
      "source": [
        "deck[:13]"
      ]
    },
    {
      "cell_type": "code",
      "execution_count": null,
      "metadata": {
        "deletable": true,
        "editable": true,
        "id": "2mDh3p_Zm8hE"
      },
      "outputs": [],
      "source": [
        "def draw(deck, n=5):\n",
        "    return deck.sample(n)\n",
        "draw(deck)"
      ]
    },
    {
      "cell_type": "code",
      "execution_count": null,
      "metadata": {
        "deletable": true,
        "editable": true,
        "id": "Y27WBlZXm8hE"
      },
      "outputs": [],
      "source": [
        "get_suit = lambda card: card[-1] # last letter is suit\n",
        "deck.groupby(get_suit).apply(draw, n=2)"
      ]
    },
    {
      "cell_type": "code",
      "execution_count": null,
      "metadata": {
        "deletable": true,
        "editable": true,
        "id": "p92HIOcOm8hE"
      },
      "outputs": [],
      "source": [
        "deck.groupby(get_suit, group_keys=False).apply(draw, n=2)"
      ]
    },
    {
      "cell_type": "markdown",
      "metadata": {
        "deletable": true,
        "editable": true,
        "id": "iHKhaotkm8hE"
      },
      "source": [
        "### Example: Group Weighted Average and Correlation"
      ]
    },
    {
      "cell_type": "code",
      "execution_count": null,
      "metadata": {
        "deletable": true,
        "editable": true,
        "id": "pjsAXur-m8hE"
      },
      "outputs": [],
      "source": [
        "df = pd.DataFrame({'category': ['a', 'a', 'a', 'a',\n",
        "                                'b', 'b', 'b', 'b'],\n",
        "                   'data': np.random.randn(8),\n",
        "                   'weights': np.random.rand(8)})\n",
        "df"
      ]
    },
    {
      "cell_type": "code",
      "execution_count": null,
      "metadata": {
        "deletable": true,
        "editable": true,
        "id": "LvKb492Om8hE"
      },
      "outputs": [],
      "source": [
        "grouped = df.groupby('category')\n",
        "get_wavg = lambda g: np.average(g['data'], weights=g['weights'])\n",
        "grouped.apply(get_wavg)"
      ]
    },
    {
      "cell_type": "code",
      "execution_count": null,
      "metadata": {
        "deletable": true,
        "editable": true,
        "id": "TQ2LKoGxm8hE"
      },
      "outputs": [],
      "source": [
        "close_px = pd.read_csv('examples/stock_px_2.csv', parse_dates=True,\n",
        "                       index_col=0)\n",
        "close_px.info()\n",
        "close_px[-4:]"
      ]
    },
    {
      "cell_type": "code",
      "execution_count": null,
      "metadata": {
        "deletable": true,
        "editable": true,
        "id": "pKKFB857m8hE"
      },
      "outputs": [],
      "source": [
        "spx_corr = lambda x: x.corrwith(x['SPX'])"
      ]
    },
    {
      "cell_type": "code",
      "execution_count": null,
      "metadata": {
        "deletable": true,
        "editable": true,
        "id": "hVuS5TaEm8hF"
      },
      "outputs": [],
      "source": [
        "rets = close_px.pct_change().dropna()"
      ]
    },
    {
      "cell_type": "code",
      "execution_count": null,
      "metadata": {
        "deletable": true,
        "editable": true,
        "id": "heZpJsB3m8hF"
      },
      "outputs": [],
      "source": [
        "get_year = lambda x: x.year\n",
        "by_year = rets.groupby(get_year)\n",
        "by_year.apply(spx_corr)"
      ]
    },
    {
      "cell_type": "code",
      "execution_count": null,
      "metadata": {
        "deletable": true,
        "editable": true,
        "id": "08qzbZo0m8hF"
      },
      "outputs": [],
      "source": [
        "by_year.apply(lambda g: g['AAPL'].corr(g['MSFT']))"
      ]
    },
    {
      "cell_type": "markdown",
      "metadata": {
        "deletable": true,
        "editable": true,
        "id": "YmQdpAxwm8hF"
      },
      "source": [
        "### Example: Group-Wise Linear Regression"
      ]
    },
    {
      "cell_type": "code",
      "execution_count": null,
      "metadata": {
        "deletable": true,
        "editable": true,
        "id": "OW2IWFvTm8hF"
      },
      "outputs": [],
      "source": [
        "import statsmodels.api as sm\n",
        "def regress(data, yvar, xvars):\n",
        "    Y = data[yvar]\n",
        "    X = data[xvars]\n",
        "    X['intercept'] = 1.\n",
        "    result = sm.OLS(Y, X).fit()\n",
        "    return result.params"
      ]
    },
    {
      "cell_type": "code",
      "execution_count": null,
      "metadata": {
        "deletable": true,
        "editable": true,
        "id": "ZRC7DhGzm8hF"
      },
      "outputs": [],
      "source": [
        "by_year.apply(regress, 'AAPL', ['SPX'])"
      ]
    },
    {
      "cell_type": "markdown",
      "metadata": {
        "deletable": true,
        "editable": true,
        "id": "d1oWuGLJm8hF"
      },
      "source": [
        "## Pivot Tables and Cross-Tabulation"
      ]
    },
    {
      "cell_type": "code",
      "execution_count": null,
      "metadata": {
        "deletable": true,
        "editable": true,
        "id": "t_CRgbwtm8hF"
      },
      "outputs": [],
      "source": [
        "tips.pivot_table(index=['day', 'smoker'])"
      ]
    },
    {
      "cell_type": "code",
      "execution_count": null,
      "metadata": {
        "deletable": true,
        "editable": true,
        "id": "ERA0eTZDm8hF"
      },
      "outputs": [],
      "source": [
        "tips.pivot_table(['tip_pct', 'size'], index=['time', 'day'],\n",
        "                 columns='smoker')"
      ]
    },
    {
      "cell_type": "code",
      "execution_count": null,
      "metadata": {
        "deletable": true,
        "editable": true,
        "id": "R53CxGC1m8hF"
      },
      "outputs": [],
      "source": [
        "tips.pivot_table(['tip_pct', 'size'], index=['time', 'day'],\n",
        "                 columns='smoker', margins=True)"
      ]
    },
    {
      "cell_type": "code",
      "execution_count": null,
      "metadata": {
        "deletable": true,
        "editable": true,
        "id": "GrpTYWzRm8hF"
      },
      "outputs": [],
      "source": [
        "tips.pivot_table('tip_pct', index=['time', 'smoker'], columns='day',\n",
        "                 aggfunc=len, margins=True)"
      ]
    },
    {
      "cell_type": "code",
      "execution_count": null,
      "metadata": {
        "deletable": true,
        "editable": true,
        "id": "TTW1HaVJm8hG"
      },
      "outputs": [],
      "source": [
        "tips.pivot_table('tip_pct', index=['time', 'size', 'smoker'],\n",
        "                 columns='day', aggfunc='mean', fill_value=0)"
      ]
    },
    {
      "cell_type": "markdown",
      "metadata": {
        "deletable": true,
        "editable": true,
        "id": "PDvpuiffm8hG"
      },
      "source": [
        "### Cross-Tabulations: Crosstab"
      ]
    },
    {
      "cell_type": "code",
      "execution_count": null,
      "metadata": {
        "deletable": true,
        "editable": true,
        "id": "iWxfw5wUm8hG"
      },
      "outputs": [],
      "source": [
        "from io import StringIO\n",
        "data = \"\"\"\\\n",
        "Sample  Nationality  Handedness\n",
        "1   USA  Right-handed\n",
        "2   Japan    Left-handed\n",
        "3   USA  Right-handed\n",
        "4   Japan    Right-handed\n",
        "5   Japan    Left-handed\n",
        "6   Japan    Right-handed\n",
        "7   USA  Right-handed\n",
        "8   USA  Left-handed\n",
        "9   Japan    Right-handed\n",
        "10  USA  Right-handed\"\"\"\n",
        "data = pd.read_table(StringIO(data), sep='\\s+')"
      ]
    },
    {
      "cell_type": "code",
      "execution_count": null,
      "metadata": {
        "deletable": true,
        "editable": true,
        "id": "siP5v9u2m8hG"
      },
      "outputs": [],
      "source": [
        "data"
      ]
    },
    {
      "cell_type": "code",
      "execution_count": null,
      "metadata": {
        "deletable": true,
        "editable": true,
        "id": "kLXNFzzjm8hG"
      },
      "outputs": [],
      "source": [
        "pd.crosstab(data.Nationality, data.Handedness, margins=True)"
      ]
    },
    {
      "cell_type": "code",
      "execution_count": null,
      "metadata": {
        "deletable": true,
        "editable": true,
        "id": "09TqMJHPm8hG"
      },
      "outputs": [],
      "source": [
        "pd.crosstab([tips.time, tips.day], tips.smoker, margins=True)"
      ]
    },
    {
      "cell_type": "code",
      "execution_count": null,
      "metadata": {
        "deletable": true,
        "editable": true,
        "id": "YfRdUGy1m8hH"
      },
      "outputs": [],
      "source": [
        "pd.options.display.max_rows = PREVIOUS_MAX_ROWS"
      ]
    },
    {
      "cell_type": "markdown",
      "metadata": {
        "deletable": true,
        "editable": true,
        "id": "ejkAQCknm8hH"
      },
      "source": [
        "## Conclusion"
      ]
    }
  ],
  "metadata": {
    "kernelspec": {
      "display_name": "Python 3",
      "language": "python",
      "name": "python3"
    },
    "language_info": {
      "codemirror_mode": {
        "name": "ipython",
        "version": 3
      },
      "file_extension": ".py",
      "mimetype": "text/x-python",
      "name": "python",
      "nbconvert_exporter": "python",
      "pygments_lexer": "ipython3",
      "version": "3.6.0"
    },
    "colab": {
      "provenance": []
    }
  },
  "nbformat": 4,
  "nbformat_minor": 0
}
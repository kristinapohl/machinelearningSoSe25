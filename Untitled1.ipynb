{
  "nbformat": 4,
  "nbformat_minor": 0,
  "metadata": {
    "colab": {
      "provenance": [],
      "authorship_tag": "ABX9TyOU9z30R3y3CpGqnA8WGOZU",
      "include_colab_link": true
    },
    "kernelspec": {
      "name": "python3",
      "display_name": "Python 3"
    },
    "language_info": {
      "name": "python"
    }
  },
  "cells": [
    {
      "cell_type": "markdown",
      "metadata": {
        "id": "view-in-github",
        "colab_type": "text"
      },
      "source": [
        "<a href=\"https://colab.research.google.com/github/kristinapohl/machinelearningSoSe25/blob/main/Untitled1.ipynb\" target=\"_parent\"><img src=\"https://colab.research.google.com/assets/colab-badge.svg\" alt=\"Open In Colab\"/></a>"
      ]
    },
    {
      "cell_type": "code",
      "execution_count": 1,
      "metadata": {
        "id": "b4jW1Ff_ULUu"
      },
      "outputs": [],
      "source": [
        "import matplotlib.pyplot as plt\n",
        "# NumPy-Bibliothek importieren\n",
        "import numpy as np"
      ]
    },
    {
      "cell_type": "code",
      "source": [
        "# Vorgegebene Daten\n",
        "a1    = 10 + 5 * np.random.randn(500)           # Plot oben-links\n",
        "a2    = np.random.randn(50).cumsum()            # Plot oben-rechts\n",
        "a34_x = np.arange(30)                           # Plot unten-links, unten-rechts\n",
        "a34_y = np.arange(30) + 3 * np.random.randn(30) # Plot unten-links, unten-rechts"
      ],
      "metadata": {
        "id": "EqqbuyUkUUpC"
      },
      "execution_count": null,
      "outputs": []
    },
    {
      "cell_type": "code",
      "source": [
        "# 2x2 Subplots hinzufuegen, gemeinsame X-Achse verwenden\n",
        "\n",
        "fig = plt.figure() # Diagramme erstellen\n",
        "fig, axes = plt.subplots(2,2, sharex=-True)"
      ],
      "metadata": {
        "colab": {
          "base_uri": "https://localhost:8080/",
          "height": 452
        },
        "id": "OIX9j-vnUVVo",
        "outputId": "ced94d2d-ae18-4b92-920a-6fa0fa8fec3e"
      },
      "execution_count": 3,
      "outputs": [
        {
          "output_type": "display_data",
          "data": {
            "text/plain": [
              "<Figure size 640x480 with 0 Axes>"
            ]
          },
          "metadata": {}
        },
        {
          "output_type": "display_data",
          "data": {
            "text/plain": [
              "<Figure size 640x480 with 4 Axes>"
            ],
            "image/png": "[encoded data removed]"
          },
          "metadata": {}
        }
      ]
    },
    {
      "cell_type": "code",
      "source": [
        "# Achsenbeschriftungen hinzufuegen"
      ],
      "metadata": {
        "id": "d4CvC-yiVSdr"
      },
      "execution_count": null,
      "outputs": []
    }
  ]
}
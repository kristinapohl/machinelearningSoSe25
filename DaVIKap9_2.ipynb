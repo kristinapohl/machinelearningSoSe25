{
  "nbformat": 4,
  "nbformat_minor": 0,
  "metadata": {
    "colab": {
      "provenance": [],
      "authorship_tag": "ABX9TyO6PzUD0U9Ns6K3o/oGrV7L",
      "include_colab_link": true
    },
    "kernelspec": {
      "name": "python3",
      "display_name": "Python 3"
    },
    "language_info": {
      "name": "python"
    }
  },
  "cells": [
    {
      "cell_type": "markdown",
      "metadata": {
        "id": "view-in-github",
        "colab_type": "text"
      },
      "source": [
        "<a href=\"https://colab.research.google.com/github/kristinapohl/machinelearningSoSe25/blob/main/DaVIKap9_2.ipynb\" target=\"_parent\"><img src=\"https://colab.research.google.com/assets/colab-badge.svg\" alt=\"Open In Colab\"/></a>"
      ]
    },
    {
      "cell_type": "code",
      "execution_count": 16,
      "metadata": {
        "id": "Rlzpo-kz5JRq"
      },
      "outputs": [],
      "source": [
        "### Aufgabe_06_1.py ###\n",
        "# matplotlib-Bibliothek importieren\n",
        "import matplotlib.pyplot as plt\n",
        "# NumPy-Bibliothek importieren\n",
        "import numpy as np\n",
        "from numpy.random import randn\n",
        "\n",
        "# Vorgegebene Daten\n",
        "a1    = 10 + 5 * np.random.randn(500)           # Plot oben-links\n",
        "#Histogramm, Farbe: Schwarz, Transparenz: 0.3, Türme: 20, Datensatz: a1\n",
        "\n",
        "a2    = np.random.randn(50).cumsum()            # Plot oben-rechts\n",
        "#Art: Liniendiagramm mit Datenpunkten, Farbe: Grün, Marker: Punkt, Linie: Gestrichelt,\n",
        "\n",
        "a34_x = np.arange(30)                           # Plot unten-links, unten-rechts\n",
        "#Streudiagramm, Farbe: Blau, Datensatz: a34_x und a34_y\n",
        "\n",
        "a34_y = np.arange(30) + 3 * np.random.randn(30) # Plot unten-links, unten-rechts\n",
        "#Liniendiagramm, Farbe: Rot, Datensatz: a34_x und a34_y"
      ]
    },
    {
      "cell_type": "markdown",
      "source": [
        "Fügen Sie die Achsenbeschriftungen auf der Y-Achse für die beiden linken Unterdiagramme\n",
        "hinzu. Analog sollen die Achsenbeschriftungen auf der X-Achse bei den beiden unteren\n",
        "Unterdiagrammen hinzugefügt werden"
      ],
      "metadata": {
        "id": "d_8xhdK9nMW-"
      }
    },
    {
      "cell_type": "code",
      "source": [
        "# 2x2 Subplots hinzufuegen, gemeinsame X-Achse verwenden\n",
        "# Diagramme erstellen\n",
        "fig, axes = plt.subplots(2,2, sharex = True) #direkt alle subplots auf einmal generieren\n",
        "fig =plt.figure()\n",
        "\n",
        "# fig und axes heißen die Objekte\n",
        "# fig sind die x- und Y-Achsen und axes sind die graphen selbst\n",
        "# mit sharex ist die x Achse bei allen plots in den gleichen Dimensionen\n",
        "\n",
        "axes[0][0].hist(a1, bins= 20, color='k', alpha = 0.3)\n",
        "axes[0][1].plot(a2.cumsum(), 'go--', label=\"L-P-Diagramm\")\n",
        "axes[1][0].scatter(a34_x, a34_y, color = 'b' )\n",
        "axes[1][1].plot(a34_x, a34_y, color = 'r')\n",
        "\n",
        "#plt.subplots_adjust(wspace = 1.0, hspace = 0)\n",
        "\n",
        "\n",
        "# Achsenbeschriftungen hinzufuegen\n",
        "axes[1][1].set_xlabel('x-Achse')\n",
        "axes[1][0].set_xlabel('x-Achse')\n",
        "axes[0][0].set_ylabel('y-Achse')\n",
        "axes[1][0].set_ylabel('y-Achse')\n",
        "#plt.plot(axes) #befüllt den aktuellen subplot\n",
        "\n",
        "#ax2.plot(a2, linestyle='--', color='g', marker='o', label=\"L-P-Diagramm\")\n",
        "\n",
        "# Legende hinzufuegen, Platzierung oben rechts\n",
        "fig.legend(loc='upper right') # für alle Objekte von fig insgesamt\n",
        "#plt.legend(loc='upper right')\n",
        "\n",
        "\n",
        "\n"
      ],
      "metadata": {
        "colab": {
          "base_uri": "https://localhost:8080/",
          "height": 543
        },
        "id": "GRDEkMio7uoS",
        "outputId": "f869721f-91ad-4ddb-fd2b-b55b0dbd0b5b"
      },
      "execution_count": 18,
      "outputs": [
        {
          "output_type": "stream",
          "name": "stderr",
          "text": [
            "<ipython-input-18-7930eb3e1598>:28: UserWarning: No artists with labels found to put in legend.  Note that artists whose label start with an underscore are ignored when legend() is called with no argument.\n",
            "  fig.legend(loc='upper right') # für alle Objekte von fig insgesamt\n"
          ]
        },
        {
          "output_type": "execute_result",
          "data": {
            "text/plain": [
              "<matplotlib.legend.Legend at 0x7a2c2a05bed0>"
            ]
          },
          "metadata": {},
          "execution_count": 18
        },
        {
          "output_type": "display_data",
          "data": {
            "text/plain": [
              "<Figure size 640x480 with 4 Axes>"
            ],
            "image/png": "[encoded data removed]"
          },
          "metadata": {}
        },
        {
          "output_type": "display_data",
          "data": {
            "text/plain": [
              "<Figure size 640x480 with 0 Axes>"
            ]
          },
          "metadata": {}
        }
      ]
    },
    {
      "cell_type": "markdown",
      "source": [
        "for i in range(2):\n",
        "  for j in range(2):\n",
        "      axes[i,j].hist(a1,a2,a34_x,a34_y)"
      ],
      "metadata": {
        "id": "8ekn1fFXGAYw"
      }
    },
    {
      "cell_type": "code",
      "source": [
        "# Speichern in ein PNG-Bild ohne dem weissen Rand\n",
        "png_name = 'Diagramm.png'\n",
        "plt.savefig(png_name) #, bbox_inches='tight'\n",
        "\n",
        "\n",
        "### Ende Aufgabe_06_1.py ###"
      ],
      "metadata": {
        "id": "XvcTka6B7zWJ",
        "colab": {
          "base_uri": "https://localhost:8080/",
          "height": 35
        },
        "outputId": "5c8791e7-9a2a-4182-951e-a48ea1e970e3"
      },
      "execution_count": null,
      "outputs": [
        {
          "output_type": "display_data",
          "data": {
            "text/plain": [
              "<Figure size 640x480 with 0 Axes>"
            ]
          },
          "metadata": {}
        }
      ]
    }
  ]
}
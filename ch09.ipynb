{
  "cells": [
    {
      "cell_type": "markdown",
      "metadata": {
        "id": "view-in-github",
        "colab_type": "text"
      },
      "source": [
        "<a href=\"https://colab.research.google.com/github/kristinapohl/machinelearningSoSe25/blob/main/ch09.ipynb\" target=\"_parent\"><img src=\"https://colab.research.google.com/assets/colab-badge.svg\" alt=\"Open In Colab\"/></a>"
      ]
    },
    {
      "cell_type": "markdown",
      "metadata": {
        "deletable": true,
        "editable": true,
        "id": "WbpNfs80vwgc"
      },
      "source": [
        "# Plotting and Visualization"
      ]
    },
    {
      "cell_type": "markdown",
      "source": [
        "1. Frage: Was versteht man unter einem Plot in der Datenanalyse?\n",
        "\n",
        "*   Antwort: Der Plot ist eine informative Visualisierung der vorhanden Datenpunkte. Je nachdem mit welchem Ziel die Datenanalyse durchgeführt wird, sind unterschiedliche Arten von Plots empfehlenswert. Beispielsweise gibt es Scatterplots, Balkendiagramme, .."
      ],
      "metadata": {
        "id": "zgrvJ_qTYX-0"
      }
    },
    {
      "cell_type": "markdown",
      "source": [
        "2. Erklären Sie den Begriff Subplott bei der Darstellung von Daten aus der Datenanalyse.\n",
        "\n",
        "*   Antwort: Eine Abbildung kann mehrere Diagramme enthalten, die sogenannten subplots. Damit ist die vergleichende Analyse der Daten einfacher.\n",
        "\n",
        "\n"
      ],
      "metadata": {
        "id": "uT-mWMXMZQ6P"
      }
    },
    {
      "cell_type": "markdown",
      "source": [
        "3. Was versteht man unter einem Balkendiagramm bzw. einem Säulendiagramm in der Datenanalyse (deskriptive Statistik)?\n",
        "\n",
        "\n",
        "*   Balkendiagramme fassen die Daten einer Zeilen in einem Balken zusammen. Diese können horizontal (Balkendiagramm) oder vertikal (Säulendiagramm) angeordnet werden. Mit Balkendiagrammen können vor allem kategoriale Daten dargestellt und verglichen werden.\n",
        "\n"
      ],
      "metadata": {
        "id": "mHTe4wDfaKa2"
      }
    },
    {
      "cell_type": "markdown",
      "source": [
        "4. Erklären Sie den Begriff Histogramm aus der Datenanalyse (deskriptive Statistik).\n",
        "\n",
        "*   Ein Histogramm ist auch eine Form des Balkendiagramms und stellt eine Häufigkeitsverteilung dar. Die Datenpunkte werden in Klassen aufgeteilt und in Stufenform werden diese Klassen dargestellt. In der deskriptiven Statistik kann so sichtbar gemacht werden, wie die Daten über die Klassen hinweg verteilt sind.\n",
        "\n"
      ],
      "metadata": {
        "id": "wy_vBGZifRXc"
      }
    },
    {
      "cell_type": "markdown",
      "source": [],
      "metadata": {
        "id": "kWDiv1F3gEPo"
      }
    },
    {
      "cell_type": "code",
      "execution_count": null,
      "metadata": {
        "deletable": true,
        "editable": true,
        "id": "aEO2LiSivwge"
      },
      "outputs": [],
      "source": [
        "import numpy as np\n",
        "import pandas as pd\n",
        "PREVIOUS_MAX_ROWS = pd.options.display.max_rows\n",
        "pd.options.display.max_rows = 20\n",
        "np.random.seed(12345)\n",
        "import matplotlib.pyplot as plt\n",
        "import matplotlib\n",
        "plt.rc('figure', figsize=(10, 6))\n",
        "np.set_printoptions(precision=4, suppress=True)"
      ]
    },
    {
      "cell_type": "markdown",
      "metadata": {
        "deletable": true,
        "editable": true,
        "id": "oEkg99dwvwge"
      },
      "source": [
        "%matplotlib notebook"
      ]
    },
    {
      "cell_type": "markdown",
      "metadata": {
        "deletable": true,
        "editable": true,
        "id": "C7ZOArt7vwge"
      },
      "source": [
        "## A Brief matplotlib API Primer"
      ]
    },
    {
      "cell_type": "code",
      "execution_count": 1,
      "metadata": {
        "deletable": true,
        "editable": true,
        "id": "FCMNTnDKvwgf"
      },
      "outputs": [],
      "source": [
        "import matplotlib.pyplot as plt"
      ]
    },
    {
      "cell_type": "code",
      "execution_count": 2,
      "metadata": {
        "deletable": true,
        "editable": true,
        "id": "sSG8v_k9vwgf",
        "colab": {
          "base_uri": "https://localhost:8080/",
          "height": 447
        },
        "outputId": "b2c0796a-e2af-4fcb-8441-c2894d460b33"
      },
      "outputs": [
        {
          "output_type": "execute_result",
          "data": {
            "text/plain": [
              "[<matplotlib.lines.Line2D at 0x7fb7ceeeff90>]"
            ]
          },
          "metadata": {},
          "execution_count": 2
        },
        {
          "output_type": "display_data",
          "data": {
            "text/plain": [
              "<Figure size 640x480 with 1 Axes>"
            ],
            "image/png": "[encoded data removed]"
          },
          "metadata": {}
        }
      ],
      "source": [
        "import numpy as np\n",
        "data = np.arange(10)\n",
        "data\n",
        "plt.plot(data)"
      ]
    },
    {
      "cell_type": "markdown",
      "metadata": {
        "deletable": true,
        "editable": true,
        "id": "qSZmMJf0vwgf"
      },
      "source": [
        "### Figures and Subplots"
      ]
    },
    {
      "cell_type": "code",
      "execution_count": 3,
      "metadata": {
        "deletable": true,
        "editable": true,
        "id": "H5fysZb9vwgf",
        "colab": {
          "base_uri": "https://localhost:8080/",
          "height": 34
        },
        "outputId": "ce93590f-753e-494a-c713-7ba62004f983"
      },
      "outputs": [
        {
          "output_type": "display_data",
          "data": {
            "text/plain": [
              "<Figure size 640x480 with 0 Axes>"
            ]
          },
          "metadata": {}
        }
      ],
      "source": [
        "fig = plt.figure()"
      ]
    },
    {
      "cell_type": "code",
      "execution_count": 4,
      "metadata": {
        "deletable": true,
        "editable": true,
        "id": "GRcQXFcyvwgf"
      },
      "outputs": [],
      "source": [
        "ax1 = fig.add_subplot(2, 2, 1)"
      ]
    },
    {
      "cell_type": "code",
      "execution_count": 5,
      "metadata": {
        "deletable": true,
        "editable": true,
        "id": "vW8L4IgOvwgf"
      },
      "outputs": [],
      "source": [
        "ax2 = fig.add_subplot(2, 2, 2)\n",
        "ax3 = fig.add_subplot(2, 2, 3)"
      ]
    },
    {
      "cell_type": "markdown",
      "metadata": {
        "deletable": true,
        "editable": true,
        "id": "vn1Sj9qPvwgg"
      },
      "source": [
        "fig = plt.figure()\n",
        "ax1 = fig.add_subplot(2, 2, 1)\n",
        "ax2 = fig.add_subplot(2, 2, 2)\n",
        "ax3 = fig.add_subplot(2, 2, 3)"
      ]
    },
    {
      "cell_type": "code",
      "execution_count": 6,
      "metadata": {
        "deletable": true,
        "editable": true,
        "id": "MbhsA_gTvwgg",
        "colab": {
          "base_uri": "https://localhost:8080/",
          "height": 447
        },
        "outputId": "e6e12611-3a47-4256-9b89-3bae6bd4f141"
      },
      "outputs": [
        {
          "output_type": "execute_result",
          "data": {
            "text/plain": [
              "[<matplotlib.lines.Line2D at 0x7fb7cc203fd0>]"
            ]
          },
          "metadata": {},
          "execution_count": 6
        },
        {
          "output_type": "display_data",
          "data": {
            "text/plain": [
              "<Figure size 640x480 with 1 Axes>"
            ],
            "image/png": "[encoded data removed]"
          },
          "metadata": {}
        }
      ],
      "source": [
        "plt.plot(np.random.randn(50).cumsum(), 'k--')"
      ]
    },
    {
      "cell_type": "markdown",
      "source": [
        "Array mit 50 zufälligen Zahlen aus einer Normalverteilung (Mittelwert = 0, Standardabweichung = 1.  .cumsum(): Berechnet die kumulative Summe der zufälligen Zahlen. Das bedeutet, dass jede Zahl im Array die Summe aller vorherigen Zahlen enthält. Dadurch entsteht eine sich aufbauende Kurve.\n",
        "Die kumulative Summe zeigt, wie sich Werte akkumulieren – anstatt einzelne zufällige Punkte darzustellen, bildet sich eine fließende Linie, die die Gesamtentwicklung der Daten zeigt. Sie wird oft in Zeitreihenanalysen verwendet.\n"
      ],
      "metadata": {
        "id": "h7-xg-y0g21X"
      }
    },
    {
      "cell_type": "code",
      "execution_count": 11,
      "metadata": {
        "deletable": true,
        "editable": true,
        "id": "RjiMCPicvwgg",
        "colab": {
          "base_uri": "https://localhost:8080/"
        },
        "outputId": "223154c9-d508-4842-e7dc-5e11752ca6f0"
      },
      "outputs": [
        {
          "output_type": "execute_result",
          "data": {
            "text/plain": [
              "<matplotlib.collections.PathCollection at 0x7fb7cc49af50>"
            ]
          },
          "metadata": {},
          "execution_count": 11
        }
      ],
      "source": [
        "_ = ax1.hist(np.random.randn(100), bins=20, color='k', alpha=0.3)\n",
        "ax2.scatter(np.arange(30), np.arange(30) + 3 * np.random.randn(30))"
      ]
    },
    {
      "cell_type": "code",
      "execution_count": 12,
      "metadata": {
        "deletable": true,
        "editable": true,
        "id": "DzaEwCFdvwgg"
      },
      "outputs": [],
      "source": [
        "plt.close('all')"
      ]
    },
    {
      "cell_type": "code",
      "execution_count": 13,
      "metadata": {
        "deletable": true,
        "editable": true,
        "id": "-7uShEnRvwgg",
        "colab": {
          "base_uri": "https://localhost:8080/",
          "height": 470
        },
        "outputId": "a03333ab-0170-4c8e-c827-86ce9d6b50ac"
      },
      "outputs": [
        {
          "output_type": "execute_result",
          "data": {
            "text/plain": [
              "array([[<Axes: >, <Axes: >, <Axes: >],\n",
              "       [<Axes: >, <Axes: >, <Axes: >]], dtype=object)"
            ]
          },
          "metadata": {},
          "execution_count": 13
        },
        {
          "output_type": "display_data",
          "data": {
            "text/plain": [
              "<Figure size 640x480 with 6 Axes>"
            ],
            "image/png": "[encoded data removed]"
          },
          "metadata": {}
        }
      ],
      "source": [
        "fig, axes = plt.subplots(2, 3)\n",
        "axes"
      ]
    },
    {
      "cell_type": "markdown",
      "metadata": {
        "deletable": true,
        "editable": true,
        "id": "Prnf3Ukavwgg"
      },
      "source": [
        "#### Adjusting the spacing around subplots"
      ]
    },
    {
      "cell_type": "markdown",
      "metadata": {
        "deletable": true,
        "editable": true,
        "id": "O8qYnUdFvwgg"
      },
      "source": [
        "subplots_adjust(left=None, bottom=None, right=None, top=None,\n",
        "                wspace=None, hspace=None)"
      ]
    },
    {
      "cell_type": "markdown",
      "metadata": {
        "deletable": true,
        "editable": true,
        "id": "-FWP7aIavwgg"
      },
      "source": [
        "fig, axes = plt.subplots(2, 2, sharex=True, sharey=True)\n",
        "for i in range(2):\n",
        "    for j in range(2):\n",
        "        axes[i, j].hist(np.random.randn(500), bins=50, color='k', alpha=0.5)\n",
        "plt.subplots_adjust(wspace=0, hspace=0)"
      ]
    },
    {
      "cell_type": "code",
      "execution_count": 14,
      "metadata": {
        "deletable": true,
        "editable": true,
        "id": "KCk6VNgZvwgg",
        "colab": {
          "base_uri": "https://localhost:8080/",
          "height": 430
        },
        "outputId": "34e09ed6-dc08-4916-f2a3-84eefb1d13d9"
      },
      "outputs": [
        {
          "output_type": "display_data",
          "data": {
            "text/plain": [
              "<Figure size 640x480 with 4 Axes>"
            ],
            "image/png": "[encoded data removed]"
          },
          "metadata": {}
        }
      ],
      "source": [
        "# die beiden plots sollen sich die x- und y-Achse teilen --> bessere Vergleichbarkeit\n",
        "fig, axes = plt.subplots(2, 2, sharex=True, sharey=True)\n",
        "# 2,2 heißt: 2 Zeilen, 2 Spalten\n",
        "# Doppelte Schleife erzeugt 4 Histogramme\n",
        "for i in range(2):     # Zeilen\n",
        "    for j in range(2): # Spalten\n",
        "        axes[i, j].hist(np.random.randn(500), bins=50, color='k', alpha=0.5)\n",
        "plt.subplots_adjust(wspace=0, hspace=0) # legt fest, wie viel Platz zwischen den Subplots bleiben soll.\n",
        "# wspace = Breite und hspace = Höhe, prozentualer Anteil im Vergleich zur Abbildung selbst"
      ]
    },
    {
      "cell_type": "markdown",
      "metadata": {
        "deletable": true,
        "editable": true,
        "id": "Je4jORYMvwgg"
      },
      "source": [
        "### Colors, Markers, and Line Styles"
      ]
    },
    {
      "cell_type": "markdown",
      "metadata": {
        "deletable": true,
        "editable": true,
        "id": "-x2gyJwcvwgg"
      },
      "source": [
        "ax.plot(x, y, 'g--')"
      ]
    },
    {
      "cell_type": "markdown",
      "metadata": {
        "deletable": true,
        "editable": true,
        "id": "h-7gujpSvwgg"
      },
      "source": [
        "ax.plot(x, y, linestyle='--', color='g')"
      ]
    },
    {
      "cell_type": "code",
      "execution_count": 16,
      "metadata": {
        "deletable": true,
        "editable": true,
        "id": "JptsET6kvwgg",
        "colab": {
          "base_uri": "https://localhost:8080/",
          "height": 52
        },
        "outputId": "59510a60-7a4c-4c6e-c3d7-bc916a3b2f00"
      },
      "outputs": [
        {
          "output_type": "execute_result",
          "data": {
            "text/plain": [
              "<Figure size 640x480 with 0 Axes>"
            ]
          },
          "metadata": {},
          "execution_count": 16
        },
        {
          "output_type": "display_data",
          "data": {
            "text/plain": [
              "<Figure size 640x480 with 0 Axes>"
            ]
          },
          "metadata": {}
        }
      ],
      "source": [
        "plt.figure()"
      ]
    },
    {
      "cell_type": "code",
      "execution_count": 17,
      "metadata": {
        "deletable": true,
        "editable": true,
        "id": "UlQBcGbxvwgg",
        "colab": {
          "base_uri": "https://localhost:8080/",
          "height": 447
        },
        "outputId": "5d3d0e30-c792-4db7-e664-2747dbcdebef"
      },
      "outputs": [
        {
          "output_type": "execute_result",
          "data": {
            "text/plain": [
              "[<matplotlib.lines.Line2D at 0x7fb7abfa83d0>]"
            ]
          },
          "metadata": {},
          "execution_count": 17
        },
        {
          "output_type": "display_data",
          "data": {
            "text/plain": [
              "<Figure size 640x480 with 1 Axes>"
            ],
            "image/png": "[encoded data removed]"
          },
          "metadata": {}
        }
      ],
      "source": [
        "from numpy.random import randn\n",
        "plt.plot(randn(30).cumsum(), 'ko--')\n",
        "# o sorgt dafür, dass die Datenpunkte als Kreis markiert werden, dazwischen wird interpoliert"
      ]
    },
    {
      "cell_type": "markdown",
      "metadata": {
        "deletable": true,
        "editable": true,
        "id": "VYCANiTDvwgh"
      },
      "source": [
        "plot(randn(30).cumsum(), color='k', linestyle='dashed', marker='o')"
      ]
    },
    {
      "cell_type": "code",
      "execution_count": 18,
      "metadata": {
        "deletable": true,
        "editable": true,
        "id": "bLzq5XLXvwgh"
      },
      "outputs": [],
      "source": [
        "plt.close('all') # um Speicher zu entlasten und zu verhindern, dass in neue Plots alte Infos fließen"
      ]
    },
    {
      "cell_type": "code",
      "execution_count": 24,
      "metadata": {
        "deletable": true,
        "editable": true,
        "id": "Ruvl4iYPvwgh",
        "colab": {
          "base_uri": "https://localhost:8080/",
          "height": 447
        },
        "outputId": "f083d53d-9851-42fc-ff32-d404d1f47206"
      },
      "outputs": [
        {
          "output_type": "execute_result",
          "data": {
            "text/plain": [
              "<matplotlib.legend.Legend at 0x7fb7abc8cd10>"
            ]
          },
          "metadata": {},
          "execution_count": 24
        },
        {
          "output_type": "display_data",
          "data": {
            "text/plain": [
              "<Figure size 640x480 with 1 Axes>"
            ],
            "image/png": "[encoded data removed]"
          },
          "metadata": {}
        }
      ],
      "source": [
        "data = np.random.randn(30).cumsum()\n",
        "plt.plot(data, 'k:', label='Default')\n",
        "plt.plot(data, 'k-', drawstyle='steps-post', label='steps-post') # Stufenform\n",
        "plt.legend(loc='best')"
      ]
    },
    {
      "cell_type": "markdown",
      "metadata": {
        "deletable": true,
        "editable": true,
        "id": "Z-Aj1phEvwgh"
      },
      "source": [
        "### Ticks, Labels, and Legends"
      ]
    },
    {
      "cell_type": "markdown",
      "metadata": {
        "deletable": true,
        "editable": true,
        "id": "DnYvyv3cvwgh"
      },
      "source": [
        "#### Setting the title, axis labels, ticks, and ticklabels"
      ]
    },
    {
      "cell_type": "code",
      "execution_count": 25,
      "metadata": {
        "deletable": true,
        "editable": true,
        "id": "o1Xdci0kvwgh",
        "colab": {
          "base_uri": "https://localhost:8080/",
          "height": 447
        },
        "outputId": "d24a41b4-1db1-4c25-b915-ac9843489761"
      },
      "outputs": [
        {
          "output_type": "execute_result",
          "data": {
            "text/plain": [
              "[<matplotlib.lines.Line2D at 0x7fb7abb67990>]"
            ]
          },
          "metadata": {},
          "execution_count": 25
        },
        {
          "output_type": "display_data",
          "data": {
            "text/plain": [
              "<Figure size 640x480 with 1 Axes>"
            ],
            "image/png": "[encoded data removed]"
          },
          "metadata": {}
        }
      ],
      "source": [
        "fig = plt.figure()\n",
        "ax = fig.add_subplot(1, 1, 1)\n",
        "ax.plot(np.random.randn(1000).cumsum())"
      ]
    },
    {
      "cell_type": "code",
      "execution_count": null,
      "metadata": {
        "deletable": true,
        "editable": true,
        "id": "i7fBKXoovwgh"
      },
      "outputs": [],
      "source": [
        "ticks = ax.set_xticks([0, 250, 500, 750, 1000])\n",
        "labels = ax.set_xticklabels(['one', 'two', 'three', 'four', 'five'],\n",
        "                            rotation=30, fontsize='small')"
      ]
    },
    {
      "cell_type": "code",
      "execution_count": null,
      "metadata": {
        "deletable": true,
        "editable": true,
        "id": "bvHYN-vgvwgh"
      },
      "outputs": [],
      "source": [
        "ax.set_title('My first matplotlib plot')\n",
        "ax.set_xlabel('Stages')"
      ]
    },
    {
      "cell_type": "markdown",
      "metadata": {
        "deletable": true,
        "editable": true,
        "id": "Io9MMc7jvwgh"
      },
      "source": [
        "props = {\n",
        "    'title': 'My first matplotlib plot',\n",
        "    'xlabel': 'Stages'\n",
        "}\n",
        "ax.set(**props)"
      ]
    },
    {
      "cell_type": "markdown",
      "metadata": {
        "deletable": true,
        "editable": true,
        "id": "gOVGrbkbvwgh"
      },
      "source": [
        "#### Adding legends"
      ]
    },
    {
      "cell_type": "code",
      "execution_count": null,
      "metadata": {
        "deletable": true,
        "editable": true,
        "id": "z66vqJs4vwgh"
      },
      "outputs": [],
      "source": [
        "from numpy.random import randn\n",
        "fig = plt.figure(); ax = fig.add_subplot(1, 1, 1)\n",
        "ax.plot(randn(1000).cumsum(), 'k', label='one')\n",
        "ax.plot(randn(1000).cumsum(), 'k--', label='two')\n",
        "ax.plot(randn(1000).cumsum(), 'k.', label='three')"
      ]
    },
    {
      "cell_type": "code",
      "execution_count": null,
      "metadata": {
        "deletable": true,
        "editable": true,
        "id": "PcUUWrI8vwgh"
      },
      "outputs": [],
      "source": [
        "ax.legend(loc='best')"
      ]
    },
    {
      "cell_type": "markdown",
      "metadata": {
        "deletable": true,
        "editable": true,
        "id": "fOVitWw3vwgh"
      },
      "source": [
        "### Annotations and Drawing on a Subplot"
      ]
    },
    {
      "cell_type": "markdown",
      "metadata": {
        "deletable": true,
        "editable": true,
        "id": "-iJW5MQhvwgh"
      },
      "source": [
        "ax.text(x, y, 'Hello world!',\n",
        "        family='monospace', fontsize=10)"
      ]
    },
    {
      "cell_type": "code",
      "execution_count": null,
      "metadata": {
        "deletable": true,
        "editable": true,
        "id": "-u1SYhv0vwgh"
      },
      "outputs": [],
      "source": [
        "from datetime import datetime\n",
        "\n",
        "fig = plt.figure()\n",
        "ax = fig.add_subplot(1, 1, 1)\n",
        "\n",
        "data = pd.read_csv('examples/spx.csv', index_col=0, parse_dates=True)\n",
        "spx = data['SPX']\n",
        "\n",
        "spx.plot(ax=ax, style='k-')\n",
        "\n",
        "crisis_data = [\n",
        "    (datetime(2007, 10, 11), 'Peak of bull market'),\n",
        "    (datetime(2008, 3, 12), 'Bear Stearns Fails'),\n",
        "    (datetime(2008, 9, 15), 'Lehman Bankruptcy')\n",
        "]\n",
        "\n",
        "for date, label in crisis_data:\n",
        "    ax.annotate(label, xy=(date, spx.asof(date) + 75),\n",
        "                xytext=(date, spx.asof(date) + 225),\n",
        "                arrowprops=dict(facecolor='black', headwidth=4, width=2,\n",
        "                                headlength=4),\n",
        "                horizontalalignment='left', verticalalignment='top')\n",
        "\n",
        "# Zoom in on 2007-2010\n",
        "ax.set_xlim(['1/1/2007', '1/1/2011'])\n",
        "ax.set_ylim([600, 1800])\n",
        "\n",
        "ax.set_title('Important dates in the 2008-2009 financial crisis')"
      ]
    },
    {
      "cell_type": "code",
      "execution_count": null,
      "metadata": {
        "deletable": true,
        "editable": true,
        "id": "kqkE0Li1vwgk"
      },
      "outputs": [],
      "source": [
        "ax.set_title('Important dates in the 2008–2009 financial crisis')"
      ]
    },
    {
      "cell_type": "markdown",
      "metadata": {
        "deletable": true,
        "editable": true,
        "id": "DmIssG8pvwgk"
      },
      "source": [
        "fig = plt.figure()\n",
        "ax = fig.add_subplot(1, 1, 1)\n",
        "\n",
        "rect = plt.Rectangle((0.2, 0.75), 0.4, 0.15, color='k', alpha=0.3)\n",
        "circ = plt.Circle((0.7, 0.2), 0.15, color='b', alpha=0.3)\n",
        "pgon = plt.Polygon([[0.15, 0.15], [0.35, 0.4], [0.2, 0.6]],\n",
        "                   color='g', alpha=0.5)\n",
        "\n",
        "ax.add_patch(rect)\n",
        "ax.add_patch(circ)\n",
        "ax.add_patch(pgon)"
      ]
    },
    {
      "cell_type": "code",
      "execution_count": null,
      "metadata": {
        "deletable": true,
        "editable": true,
        "id": "3d8G933dvwgk"
      },
      "outputs": [],
      "source": [
        "fig = plt.figure(figsize=(12, 6)); ax = fig.add_subplot(1, 1, 1)\n",
        "rect = plt.Rectangle((0.2, 0.75), 0.4, 0.15, color='k', alpha=0.3)\n",
        "circ = plt.Circle((0.7, 0.2), 0.15, color='b', alpha=0.3)\n",
        "pgon = plt.Polygon([[0.15, 0.15], [0.35, 0.4], [0.2, 0.6]],\n",
        "                   color='g', alpha=0.5)\n",
        "ax.add_patch(rect)\n",
        "ax.add_patch(circ)\n",
        "ax.add_patch(pgon)"
      ]
    },
    {
      "cell_type": "markdown",
      "metadata": {
        "deletable": true,
        "editable": true,
        "id": "flg97N76vwgk"
      },
      "source": [
        "### Saving Plots to File"
      ]
    },
    {
      "cell_type": "markdown",
      "metadata": {
        "deletable": true,
        "editable": true,
        "id": "aRYF90s2vwgl"
      },
      "source": [
        "plt.savefig('figpath.svg')"
      ]
    },
    {
      "cell_type": "markdown",
      "metadata": {
        "deletable": true,
        "editable": true,
        "id": "Ue7-Y9OFvwgl"
      },
      "source": [
        "plt.savefig('figpath.png', dpi=400, bbox_inches='tight')"
      ]
    },
    {
      "cell_type": "markdown",
      "metadata": {
        "deletable": true,
        "editable": true,
        "id": "Y4PY_UjGvwgl"
      },
      "source": [
        "from io import BytesIO\n",
        "buffer = BytesIO()\n",
        "plt.savefig(buffer)\n",
        "plot_data = buffer.getvalue()"
      ]
    },
    {
      "cell_type": "markdown",
      "metadata": {
        "deletable": true,
        "editable": true,
        "id": "yqnFAFmRvwgl"
      },
      "source": [
        "### matplotlib Configuration"
      ]
    },
    {
      "cell_type": "markdown",
      "metadata": {
        "deletable": true,
        "editable": true,
        "id": "8rAj6q70vwgl"
      },
      "source": [
        "plt.rc('figure', figsize=(10, 10))"
      ]
    },
    {
      "cell_type": "markdown",
      "metadata": {
        "deletable": true,
        "editable": true,
        "id": "KfRLMAX-vwgl"
      },
      "source": [
        "font_options = {'family' : 'monospace',\n",
        "                'weight' : 'bold',\n",
        "                'size'   : 'small'}\n",
        "plt.rc('font', **font_options)"
      ]
    },
    {
      "cell_type": "markdown",
      "metadata": {
        "deletable": true,
        "editable": true,
        "id": "i468hn-qvwgl"
      },
      "source": [
        "## Plotting with pandas and seaborn"
      ]
    },
    {
      "cell_type": "markdown",
      "metadata": {
        "deletable": true,
        "editable": true,
        "id": "CaX27jHEvwgl"
      },
      "source": [
        "### Line Plots"
      ]
    },
    {
      "cell_type": "code",
      "execution_count": null,
      "metadata": {
        "deletable": true,
        "editable": true,
        "id": "D6g0gZ4Wvwgl"
      },
      "outputs": [],
      "source": [
        "plt.close('all')"
      ]
    },
    {
      "cell_type": "code",
      "execution_count": null,
      "metadata": {
        "deletable": true,
        "editable": true,
        "id": "IHYc0WWivwgl"
      },
      "outputs": [],
      "source": [
        "s = pd.Series(np.random.randn(10).cumsum(), index=np.arange(0, 100, 10))\n",
        "s.plot()"
      ]
    },
    {
      "cell_type": "code",
      "execution_count": null,
      "metadata": {
        "deletable": true,
        "editable": true,
        "id": "Azz2lieBvwgl"
      },
      "outputs": [],
      "source": [
        "df = pd.DataFrame(np.random.randn(10, 4).cumsum(0),\n",
        "                  columns=['A', 'B', 'C', 'D'],\n",
        "                  index=np.arange(0, 100, 10))\n",
        "df.plot()"
      ]
    },
    {
      "cell_type": "markdown",
      "metadata": {
        "deletable": true,
        "editable": true,
        "id": "v4tWMOxCvwgl"
      },
      "source": [
        "### Bar Plots"
      ]
    },
    {
      "cell_type": "code",
      "execution_count": null,
      "metadata": {
        "deletable": true,
        "editable": true,
        "id": "F6tiOf6Cvwgl"
      },
      "outputs": [],
      "source": [
        "fig, axes = plt.subplots(2, 1)\n",
        "data = pd.Series(np.random.rand(16), index=list('abcdefghijklmnop'))\n",
        "data.plot.bar(ax=axes[0], color='k', alpha=0.7)\n",
        "data.plot.barh(ax=axes[1], color='k', alpha=0.7)"
      ]
    },
    {
      "cell_type": "code",
      "execution_count": null,
      "metadata": {
        "deletable": true,
        "editable": true,
        "id": "x5t1Jv_Vvwgl"
      },
      "outputs": [],
      "source": [
        "np.random.seed(12348)"
      ]
    },
    {
      "cell_type": "code",
      "execution_count": null,
      "metadata": {
        "deletable": true,
        "editable": true,
        "id": "yVrnH3ypvwgm"
      },
      "outputs": [],
      "source": [
        "df = pd.DataFrame(np.random.rand(6, 4),\n",
        "                  index=['one', 'two', 'three', 'four', 'five', 'six'],\n",
        "                  columns=pd.Index(['A', 'B', 'C', 'D'], name='Genus'))\n",
        "df\n",
        "df.plot.bar()"
      ]
    },
    {
      "cell_type": "code",
      "execution_count": null,
      "metadata": {
        "deletable": true,
        "editable": true,
        "id": "RyitpnPQvwgm"
      },
      "outputs": [],
      "source": [
        "plt.figure()"
      ]
    },
    {
      "cell_type": "code",
      "execution_count": null,
      "metadata": {
        "deletable": true,
        "editable": true,
        "id": "de5I_gSjvwgm"
      },
      "outputs": [],
      "source": [
        "df.plot.barh(stacked=True, alpha=0.5)"
      ]
    },
    {
      "cell_type": "code",
      "execution_count": null,
      "metadata": {
        "deletable": true,
        "editable": true,
        "id": "uvXJGwMAvwgm"
      },
      "outputs": [],
      "source": [
        "plt.close('all')"
      ]
    },
    {
      "cell_type": "code",
      "execution_count": null,
      "metadata": {
        "deletable": true,
        "editable": true,
        "id": "I63FLklwvwgm"
      },
      "outputs": [],
      "source": [
        "tips = pd.read_csv('examples/tips.csv')\n",
        "party_counts = pd.crosstab(tips['day'], tips['size'])\n",
        "party_counts\n",
        "# Not many 1- and 6-person parties\n",
        "party_counts = party_counts.loc[:, 2:5]"
      ]
    },
    {
      "cell_type": "code",
      "execution_count": null,
      "metadata": {
        "deletable": true,
        "editable": true,
        "id": "2ulx0dQ1vwgm"
      },
      "outputs": [],
      "source": [
        "# Normalize to sum to 1\n",
        "party_pcts = party_counts.div(party_counts.sum(1), axis=0)\n",
        "party_pcts\n",
        "party_pcts.plot.bar()"
      ]
    },
    {
      "cell_type": "code",
      "execution_count": null,
      "metadata": {
        "deletable": true,
        "editable": true,
        "id": "4o5Tn4jevwgm"
      },
      "outputs": [],
      "source": [
        "plt.close('all')"
      ]
    },
    {
      "cell_type": "code",
      "execution_count": null,
      "metadata": {
        "deletable": true,
        "editable": true,
        "id": "T5-wLA5Rvwgm"
      },
      "outputs": [],
      "source": [
        "import seaborn as sns\n",
        "tips['tip_pct'] = tips['tip'] / (tips['total_bill'] - tips['tip'])\n",
        "tips.head()\n",
        "sns.barplot(x='tip_pct', y='day', data=tips, orient='h')"
      ]
    },
    {
      "cell_type": "code",
      "execution_count": null,
      "metadata": {
        "deletable": true,
        "editable": true,
        "id": "43gtlQ5xvwgm"
      },
      "outputs": [],
      "source": [
        "plt.close('all')"
      ]
    },
    {
      "cell_type": "code",
      "execution_count": null,
      "metadata": {
        "deletable": true,
        "editable": true,
        "id": "__R8hDN8vwgm"
      },
      "outputs": [],
      "source": [
        "sns.barplot(x='tip_pct', y='day', hue='time', data=tips, orient='h')"
      ]
    },
    {
      "cell_type": "code",
      "execution_count": null,
      "metadata": {
        "deletable": true,
        "editable": true,
        "id": "VVE-Eeo3vwgn"
      },
      "outputs": [],
      "source": [
        "plt.close('all')"
      ]
    },
    {
      "cell_type": "code",
      "execution_count": null,
      "metadata": {
        "deletable": true,
        "editable": true,
        "id": "lO0QOUP8vwgn"
      },
      "outputs": [],
      "source": [
        "sns.set(style=\"whitegrid\")"
      ]
    },
    {
      "cell_type": "markdown",
      "metadata": {
        "deletable": true,
        "editable": true,
        "id": "hN9O-olYvwgn"
      },
      "source": [
        "### Histograms and Density Plots"
      ]
    },
    {
      "cell_type": "code",
      "execution_count": null,
      "metadata": {
        "deletable": true,
        "editable": true,
        "id": "yPSB266kvwgn"
      },
      "outputs": [],
      "source": [
        "plt.figure()"
      ]
    },
    {
      "cell_type": "code",
      "execution_count": null,
      "metadata": {
        "deletable": true,
        "editable": true,
        "id": "801rNv4Cvwgn"
      },
      "outputs": [],
      "source": [
        "tips['tip_pct'].plot.hist(bins=50)"
      ]
    },
    {
      "cell_type": "code",
      "execution_count": null,
      "metadata": {
        "deletable": true,
        "editable": true,
        "id": "rkWEXX1cvwgn"
      },
      "outputs": [],
      "source": [
        "plt.figure()"
      ]
    },
    {
      "cell_type": "code",
      "execution_count": null,
      "metadata": {
        "deletable": true,
        "editable": true,
        "id": "WAjejcQHvwgn"
      },
      "outputs": [],
      "source": [
        "tips['tip_pct'].plot.density()"
      ]
    },
    {
      "cell_type": "code",
      "execution_count": null,
      "metadata": {
        "deletable": true,
        "editable": true,
        "id": "-a-0ZdG-vwgn"
      },
      "outputs": [],
      "source": [
        "plt.figure()"
      ]
    },
    {
      "cell_type": "code",
      "execution_count": null,
      "metadata": {
        "deletable": true,
        "editable": true,
        "id": "CyfmDszdvwgn"
      },
      "outputs": [],
      "source": [
        "comp1 = np.random.normal(0, 1, size=200)\n",
        "comp2 = np.random.normal(10, 2, size=200)\n",
        "values = pd.Series(np.concatenate([comp1, comp2]))\n",
        "sns.distplot(values, bins=100, color='k')"
      ]
    },
    {
      "cell_type": "markdown",
      "metadata": {
        "deletable": true,
        "editable": true,
        "id": "s86haT1Bvwgn"
      },
      "source": [
        "### Scatter or Point Plots"
      ]
    },
    {
      "cell_type": "code",
      "execution_count": null,
      "metadata": {
        "deletable": true,
        "editable": true,
        "id": "Mt0uN_ePvwgn"
      },
      "outputs": [],
      "source": [
        "macro = pd.read_csv('examples/macrodata.csv')\n",
        "data = macro[['cpi', 'm1', 'tbilrate', 'unemp']]\n",
        "trans_data = np.log(data).diff().dropna()\n",
        "trans_data[-5:]"
      ]
    },
    {
      "cell_type": "code",
      "execution_count": null,
      "metadata": {
        "deletable": true,
        "editable": true,
        "id": "hEA50cN0vwgn"
      },
      "outputs": [],
      "source": [
        "plt.figure()"
      ]
    },
    {
      "cell_type": "code",
      "execution_count": null,
      "metadata": {
        "deletable": true,
        "editable": true,
        "id": "A9FrzA2bvwgn"
      },
      "outputs": [],
      "source": [
        "sns.regplot('m1', 'unemp', data=trans_data)\n",
        "plt.title('Changes in log %s versus log %s' % ('m1', 'unemp'))"
      ]
    },
    {
      "cell_type": "code",
      "execution_count": null,
      "metadata": {
        "deletable": true,
        "editable": true,
        "id": "KQc7MTIpvwgn"
      },
      "outputs": [],
      "source": [
        "sns.pairplot(trans_data, diag_kind='kde', plot_kws={'alpha': 0.2})"
      ]
    },
    {
      "cell_type": "markdown",
      "metadata": {
        "deletable": true,
        "editable": true,
        "id": "qnMJW5Kfvwgo"
      },
      "source": [
        "### Facet Grids and Categorical Data"
      ]
    },
    {
      "cell_type": "code",
      "execution_count": null,
      "metadata": {
        "deletable": true,
        "editable": true,
        "id": "kbFkHD8Pvwgo"
      },
      "outputs": [],
      "source": [
        "sns.factorplot(x='day', y='tip_pct', hue='time', col='smoker',\n",
        "               kind='bar', data=tips[tips.tip_pct < 1])"
      ]
    },
    {
      "cell_type": "code",
      "execution_count": null,
      "metadata": {
        "deletable": true,
        "editable": true,
        "id": "YJPgtx01vwgo"
      },
      "outputs": [],
      "source": [
        "sns.factorplot(x='day', y='tip_pct', row='time',\n",
        "               col='smoker',\n",
        "               kind='bar', data=tips[tips.tip_pct < 1])"
      ]
    },
    {
      "cell_type": "code",
      "execution_count": null,
      "metadata": {
        "deletable": true,
        "editable": true,
        "id": "O1Izzyytvwgo"
      },
      "outputs": [],
      "source": [
        "sns.factorplot(x='tip_pct', y='day', kind='box',\n",
        "               data=tips[tips.tip_pct < 0.5])"
      ]
    },
    {
      "cell_type": "markdown",
      "metadata": {
        "deletable": true,
        "editable": true,
        "id": "kVtjypi8vwgo"
      },
      "source": [
        "## Other Python Visualization Tools"
      ]
    },
    {
      "cell_type": "code",
      "execution_count": null,
      "metadata": {
        "deletable": true,
        "editable": true,
        "id": "1oC5kkU9vwgo"
      },
      "outputs": [],
      "source": [
        "pd.options.display.max_rows = PREVIOUS_MAX_ROWS"
      ]
    },
    {
      "cell_type": "markdown",
      "metadata": {
        "deletable": true,
        "editable": true,
        "id": "dq6s422bvwgo"
      },
      "source": [
        "## Conclusion"
      ]
    }
  ],
  "metadata": {
    "kernelspec": {
      "display_name": "Python 3",
      "language": "python",
      "name": "python3"
    },
    "language_info": {
      "codemirror_mode": {
        "name": "ipython",
        "version": 3
      },
      "file_extension": ".py",
      "mimetype": "text/x-python",
      "name": "python",
      "nbconvert_exporter": "python",
      "pygments_lexer": "ipython3",
      "version": "3.6.0"
    },
    "colab": {
      "provenance": [],
      "include_colab_link": true
    }
  },
  "nbformat": 4,
  "nbformat_minor": 0
}